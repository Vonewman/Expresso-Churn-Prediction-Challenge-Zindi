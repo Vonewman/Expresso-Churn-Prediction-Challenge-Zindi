{
  "cells": [
    {
      "cell_type": "markdown",
      "metadata": {
        "colab_type": "text",
        "id": "OL1dnqvCEr1z"
      },
      "source": [
        "\n",
        "**Official Senegalese Zindi Hackathon : UmojaHack Senegal** aka Challenge Expresso sur la prédiction d’attrition des clients (churn)\n",
        "\n",
        "![...](https://drive.google.com/uc?export=view&id=1pj7SGuqinFBy0yXrHLx6Eqi5BIcXVZbX)"
      ]
    },
    {
      "cell_type": "markdown",
      "metadata": {
        "colab_type": "text",
        "id": "D2I9ofMoD6J7"
      },
      "source": [
        "# Install & Import libraries"
      ]
    },
    {
      "cell_type": "code",
      "execution_count": null,
      "metadata": {
        "colab": {},
        "colab_type": "code",
        "id": "01aHE5-st1hY"
      },
      "outputs": [],
      "source": [
        "!pip install --quiet scikit-learn==0.22.2 seaborn==0.10.1 pandas==1.0.5 numpy==1.18.5 catboost==0.23.2  "
      ]
    },
    {
      "cell_type": "code",
      "execution_count": null,
      "metadata": {
        "colab": {},
        "colab_type": "code",
        "id": "f_gyIKganDVR"
      },
      "outputs": [],
      "source": [
        "import warnings\n",
        "warnings.simplefilter('ignore')"
      ]
    },
    {
      "cell_type": "code",
      "execution_count": null,
      "metadata": {
        "colab": {},
        "colab_type": "code",
        "id": "DlJtjU7d3pID"
      },
      "outputs": [],
      "source": [
        "import os, sys, gc\n",
        "import random\n",
        "import numpy as np\n",
        "import pandas as pd"
      ]
    },
    {
      "cell_type": "code",
      "execution_count": null,
      "metadata": {
        "colab": {},
        "colab_type": "code",
        "id": "OGMHL1XQ7MGk"
      },
      "outputs": [],
      "source": [
        "import seaborn as sns\n",
        "import matplotlib.pyplot as plt"
      ]
    },
    {
      "cell_type": "code",
      "execution_count": null,
      "metadata": {
        "colab": {},
        "colab_type": "code",
        "id": "RJycDiQDz4g3"
      },
      "outputs": [],
      "source": [
        "import sklearn\n",
        "from sklearn.metrics import log_loss\n",
        "from sklearn.model_selection import StratifiedKFold"
      ]
    },
    {
      "cell_type": "code",
      "execution_count": null,
      "metadata": {
        "colab": {},
        "colab_type": "code",
        "id": "NJxTZZm9CeI_"
      },
      "outputs": [],
      "source": [
        "from catboost import CatBoostClassifier"
      ]
    },
    {
      "cell_type": "markdown",
      "metadata": {
        "colab_type": "text",
        "id": "1kZasMvg2ffs"
      },
      "source": [
        "# Envs"
      ]
    },
    {
      "cell_type": "code",
      "execution_count": null,
      "metadata": {
        "colab": {},
        "colab_type": "code",
        "id": "JSQHlZK02g-P"
      },
      "outputs": [],
      "source": [
        "seed = 1999\n"
      ]
    },
    {
      "cell_type": "code",
      "execution_count": null,
      "metadata": {
        "colab": {},
        "colab_type": "code",
        "id": "e9AmyOBA2iZP"
      },
      "outputs": [],
      "source": [
        "os.environ['PYTHONHASHSEED'] = str(seed)\n",
        "random.seed(seed)\n",
        "np.random.seed(seed)"
      ]
    },
    {
      "cell_type": "code",
      "execution_count": null,
      "metadata": {
        "colab": {},
        "colab_type": "code",
        "id": "GyUIhQMwZ_0f"
      },
      "outputs": [],
      "source": [
        "PATH = {\n",
        "    'dataset' : os.path.join( '..', 'DATASET',  ) ,\n",
        "\n",
        "    'train' : os.path.join( '..', 'DATASET', 'CSV', 'Train.csv' ) ,\n",
        "    'test' : os.path.join( '..', 'DATASET', 'CSV', 'Test.csv' ) ,\n",
        "    'subSamp' : os.path.join( '..', 'DATASET', 'CSV', 'SampleSubmission.csv' ) ,\n",
        "    'varDesc' : os.path.join( '..', 'DATASET', 'CSV', 'VariableDefinition.csv' ) ,\n",
        "    \n",
        "    'submissions' : os.path.join( '..', 'SUBMISSIONS', ) ,\n",
        "}"
      ]
    },
    {
      "cell_type": "markdown",
      "metadata": {
        "colab_type": "text",
        "id": "duNd9RmYBM5C"
      },
      "source": [
        "# Utils"
      ]
    },
    {
      "cell_type": "code",
      "execution_count": null,
      "metadata": {
        "colab": {},
        "colab_type": "code",
        "id": "VPqwd2t5BRdF"
      },
      "outputs": [],
      "source": [
        "def metric(y, pred):\n",
        "  return log_loss(y, pred, labels=[0, 1])"
      ]
    },
    {
      "cell_type": "markdown",
      "metadata": {
        "colab_type": "text",
        "id": "QTFAKU5X3Zzc"
      },
      "source": [
        "# Read data"
      ]
    },
    {
      "cell_type": "code",
      "execution_count": null,
      "metadata": {
        "colab": {},
        "colab_type": "code",
        "id": "YWBfM3DX3dCN"
      },
      "outputs": [],
      "source": [
        "train = pd.read_csv(PATH['train'])\n",
        "test = pd.read_csv(PATH['test'])"
      ]
    },
    {
      "cell_type": "code",
      "execution_count": null,
      "metadata": {
        "colab": {},
        "colab_type": "code",
        "id": "Gi5EywNckTcq"
      },
      "outputs": [],
      "source": [
        "sample = pd.read_csv(PATH['subSamp'])"
      ]
    },
    {
      "cell_type": "code",
      "execution_count": null,
      "metadata": {
        "colab": {
          "base_uri": "https://localhost:8080/",
          "height": 35
        },
        "colab_type": "code",
        "id": "xcGWmlTf4zwg",
        "outputId": "6ee16ef0-6e1a-4cc9-c2aa-9930d997da37"
      },
      "outputs": [
        {
          "data": {
            "text/plain": [
              "(2154048, 19)"
            ]
          },
          "execution_count": 27,
          "metadata": {
            "tags": []
          },
          "output_type": "execute_result"
        }
      ],
      "source": [
        "train.shape"
      ]
    },
    {
      "cell_type": "code",
      "execution_count": null,
      "metadata": {
        "colab": {},
        "colab_type": "code",
        "id": "3ivnx8Ti4y9P"
      },
      "outputs": [],
      "source": [
        "train = train.drop_duplicates().reset_index(drop=True)"
      ]
    },
    {
      "cell_type": "code",
      "execution_count": null,
      "metadata": {
        "colab": {
          "base_uri": "https://localhost:8080/",
          "height": 35
        },
        "colab_type": "code",
        "id": "LmfmAak941nE",
        "outputId": "3d53c37e-de9d-4fe1-c9d8-c519e3f6bb58"
      },
      "outputs": [
        {
          "data": {
            "text/plain": [
              "(2154048, 19)"
            ]
          },
          "execution_count": 29,
          "metadata": {
            "tags": []
          },
          "output_type": "execute_result"
        }
      ],
      "source": [
        "train.shape"
      ]
    },
    {
      "cell_type": "code",
      "execution_count": null,
      "metadata": {
        "colab": {
          "base_uri": "https://localhost:8080/",
          "height": 309
        },
        "colab_type": "code",
        "id": "ehO-gfkF4b_r",
        "outputId": "318a4d40-48b5-4db2-9f93-9261876e67db"
      },
      "outputs": [
        {
          "data": {
            "text/html": [
              "<div>\n",
              "<style scoped>\n",
              "    .dataframe tbody tr th:only-of-type {\n",
              "        vertical-align: middle;\n",
              "    }\n",
              "\n",
              "    .dataframe tbody tr th {\n",
              "        vertical-align: top;\n",
              "    }\n",
              "\n",
              "    .dataframe thead th {\n",
              "        text-align: right;\n",
              "    }\n",
              "</style>\n",
              "<table border=\"1\" class=\"dataframe\">\n",
              "  <thead>\n",
              "    <tr style=\"text-align: right;\">\n",
              "      <th></th>\n",
              "      <th>user_id</th>\n",
              "      <th>REGION</th>\n",
              "      <th>TENURE</th>\n",
              "      <th>MONTANT</th>\n",
              "      <th>FREQUENCE_RECH</th>\n",
              "      <th>REVENUE</th>\n",
              "      <th>ARPU_SEGMENT</th>\n",
              "      <th>FREQUENCE</th>\n",
              "      <th>DATA_VOLUME</th>\n",
              "      <th>ON_NET</th>\n",
              "      <th>ORANGE</th>\n",
              "      <th>TIGO</th>\n",
              "      <th>ZONE1</th>\n",
              "      <th>ZONE2</th>\n",
              "      <th>MRG</th>\n",
              "      <th>REGULARITY</th>\n",
              "      <th>TOP_PACK</th>\n",
              "      <th>FREQ_TOP_PACK</th>\n",
              "      <th>CHURN</th>\n",
              "    </tr>\n",
              "  </thead>\n",
              "  <tbody>\n",
              "    <tr>\n",
              "      <th>0</th>\n",
              "      <td>00000bfd7d50f01092811bc0c8d7b0d6fe7c3596</td>\n",
              "      <td>FATICK</td>\n",
              "      <td>K &gt; 24 month</td>\n",
              "      <td>4250.0</td>\n",
              "      <td>15.0</td>\n",
              "      <td>4251.0</td>\n",
              "      <td>1417.0</td>\n",
              "      <td>17.0</td>\n",
              "      <td>4.0</td>\n",
              "      <td>388.0</td>\n",
              "      <td>46.0</td>\n",
              "      <td>1.0</td>\n",
              "      <td>1.0</td>\n",
              "      <td>2.0</td>\n",
              "      <td>NO</td>\n",
              "      <td>54</td>\n",
              "      <td>On net 200F=Unlimited _call24H</td>\n",
              "      <td>8.0</td>\n",
              "      <td>0</td>\n",
              "    </tr>\n",
              "    <tr>\n",
              "      <th>1</th>\n",
              "      <td>00000cb4a5d760de88fecb38e2f71b7bec52e834</td>\n",
              "      <td>NaN</td>\n",
              "      <td>I 18-21 month</td>\n",
              "      <td>NaN</td>\n",
              "      <td>NaN</td>\n",
              "      <td>NaN</td>\n",
              "      <td>NaN</td>\n",
              "      <td>NaN</td>\n",
              "      <td>NaN</td>\n",
              "      <td>NaN</td>\n",
              "      <td>NaN</td>\n",
              "      <td>NaN</td>\n",
              "      <td>NaN</td>\n",
              "      <td>NaN</td>\n",
              "      <td>NO</td>\n",
              "      <td>4</td>\n",
              "      <td>NaN</td>\n",
              "      <td>NaN</td>\n",
              "      <td>1</td>\n",
              "    </tr>\n",
              "    <tr>\n",
              "      <th>2</th>\n",
              "      <td>00001654a9d9f96303d9969d0a4a851714a4bb57</td>\n",
              "      <td>NaN</td>\n",
              "      <td>K &gt; 24 month</td>\n",
              "      <td>3600.0</td>\n",
              "      <td>2.0</td>\n",
              "      <td>1020.0</td>\n",
              "      <td>340.0</td>\n",
              "      <td>2.0</td>\n",
              "      <td>NaN</td>\n",
              "      <td>90.0</td>\n",
              "      <td>46.0</td>\n",
              "      <td>7.0</td>\n",
              "      <td>NaN</td>\n",
              "      <td>NaN</td>\n",
              "      <td>NO</td>\n",
              "      <td>17</td>\n",
              "      <td>On-net 1000F=10MilF;10d</td>\n",
              "      <td>1.0</td>\n",
              "      <td>0</td>\n",
              "    </tr>\n",
              "    <tr>\n",
              "      <th>3</th>\n",
              "      <td>00001dd6fa45f7ba044bd5d84937be464ce78ac2</td>\n",
              "      <td>DAKAR</td>\n",
              "      <td>K &gt; 24 month</td>\n",
              "      <td>13500.0</td>\n",
              "      <td>15.0</td>\n",
              "      <td>13502.0</td>\n",
              "      <td>4501.0</td>\n",
              "      <td>18.0</td>\n",
              "      <td>43804.0</td>\n",
              "      <td>41.0</td>\n",
              "      <td>102.0</td>\n",
              "      <td>2.0</td>\n",
              "      <td>NaN</td>\n",
              "      <td>NaN</td>\n",
              "      <td>NO</td>\n",
              "      <td>62</td>\n",
              "      <td>Data:1000F=5GB,7d</td>\n",
              "      <td>11.0</td>\n",
              "      <td>0</td>\n",
              "    </tr>\n",
              "    <tr>\n",
              "      <th>4</th>\n",
              "      <td>000028d9e13a595abe061f9b58f3d76ab907850f</td>\n",
              "      <td>DAKAR</td>\n",
              "      <td>K &gt; 24 month</td>\n",
              "      <td>1000.0</td>\n",
              "      <td>1.0</td>\n",
              "      <td>985.0</td>\n",
              "      <td>328.0</td>\n",
              "      <td>1.0</td>\n",
              "      <td>NaN</td>\n",
              "      <td>39.0</td>\n",
              "      <td>24.0</td>\n",
              "      <td>NaN</td>\n",
              "      <td>NaN</td>\n",
              "      <td>NaN</td>\n",
              "      <td>NO</td>\n",
              "      <td>11</td>\n",
              "      <td>Mixt 250F=Unlimited_call24H</td>\n",
              "      <td>2.0</td>\n",
              "      <td>0</td>\n",
              "    </tr>\n",
              "  </tbody>\n",
              "</table>\n",
              "</div>"
            ],
            "text/plain": [
              "                                    user_id  REGION  ... FREQ_TOP_PACK  CHURN\n",
              "0  00000bfd7d50f01092811bc0c8d7b0d6fe7c3596  FATICK  ...           8.0      0\n",
              "1  00000cb4a5d760de88fecb38e2f71b7bec52e834     NaN  ...           NaN      1\n",
              "2  00001654a9d9f96303d9969d0a4a851714a4bb57     NaN  ...           1.0      0\n",
              "3  00001dd6fa45f7ba044bd5d84937be464ce78ac2   DAKAR  ...          11.0      0\n",
              "4  000028d9e13a595abe061f9b58f3d76ab907850f   DAKAR  ...           2.0      0\n",
              "\n",
              "[5 rows x 19 columns]"
            ]
          },
          "execution_count": 30,
          "metadata": {
            "tags": []
          },
          "output_type": "execute_result"
        }
      ],
      "source": [
        "train.head()"
      ]
    },
    {
      "cell_type": "code",
      "execution_count": null,
      "metadata": {
        "colab": {
          "base_uri": "https://localhost:8080/",
          "height": 309
        },
        "colab_type": "code",
        "id": "dIHjFTbC4dR1",
        "outputId": "88439e0e-2347-4a95-b01b-6ba107041f90"
      },
      "outputs": [
        {
          "data": {
            "text/html": [
              "<div>\n",
              "<style scoped>\n",
              "    .dataframe tbody tr th:only-of-type {\n",
              "        vertical-align: middle;\n",
              "    }\n",
              "\n",
              "    .dataframe tbody tr th {\n",
              "        vertical-align: top;\n",
              "    }\n",
              "\n",
              "    .dataframe thead th {\n",
              "        text-align: right;\n",
              "    }\n",
              "</style>\n",
              "<table border=\"1\" class=\"dataframe\">\n",
              "  <thead>\n",
              "    <tr style=\"text-align: right;\">\n",
              "      <th></th>\n",
              "      <th>user_id</th>\n",
              "      <th>REGION</th>\n",
              "      <th>TENURE</th>\n",
              "      <th>MONTANT</th>\n",
              "      <th>FREQUENCE_RECH</th>\n",
              "      <th>REVENUE</th>\n",
              "      <th>ARPU_SEGMENT</th>\n",
              "      <th>FREQUENCE</th>\n",
              "      <th>DATA_VOLUME</th>\n",
              "      <th>ON_NET</th>\n",
              "      <th>ORANGE</th>\n",
              "      <th>TIGO</th>\n",
              "      <th>ZONE1</th>\n",
              "      <th>ZONE2</th>\n",
              "      <th>MRG</th>\n",
              "      <th>REGULARITY</th>\n",
              "      <th>TOP_PACK</th>\n",
              "      <th>FREQ_TOP_PACK</th>\n",
              "    </tr>\n",
              "  </thead>\n",
              "  <tbody>\n",
              "    <tr>\n",
              "      <th>0</th>\n",
              "      <td>00001dbe00e56fc4b1c1b65dda63de2a5ece55f9</td>\n",
              "      <td>THIES</td>\n",
              "      <td>K &gt; 24 month</td>\n",
              "      <td>5000.0</td>\n",
              "      <td>5.0</td>\n",
              "      <td>5000.0</td>\n",
              "      <td>1667.0</td>\n",
              "      <td>5.0</td>\n",
              "      <td>NaN</td>\n",
              "      <td>378.0</td>\n",
              "      <td>11.0</td>\n",
              "      <td>5.0</td>\n",
              "      <td>NaN</td>\n",
              "      <td>NaN</td>\n",
              "      <td>NO</td>\n",
              "      <td>42</td>\n",
              "      <td>On-net 1000F=10MilF;10d</td>\n",
              "      <td>5.0</td>\n",
              "    </tr>\n",
              "    <tr>\n",
              "      <th>1</th>\n",
              "      <td>000055d41c8a62052dd426592e8a4a3342bf565d</td>\n",
              "      <td>NaN</td>\n",
              "      <td>I 18-21 month</td>\n",
              "      <td>300.0</td>\n",
              "      <td>2.0</td>\n",
              "      <td>326.0</td>\n",
              "      <td>109.0</td>\n",
              "      <td>3.0</td>\n",
              "      <td>397.0</td>\n",
              "      <td>NaN</td>\n",
              "      <td>0.0</td>\n",
              "      <td>NaN</td>\n",
              "      <td>NaN</td>\n",
              "      <td>NaN</td>\n",
              "      <td>NO</td>\n",
              "      <td>41</td>\n",
              "      <td>Data: 100 F=40MB,24H</td>\n",
              "      <td>1.0</td>\n",
              "    </tr>\n",
              "    <tr>\n",
              "      <th>2</th>\n",
              "      <td>000081dd3245e6869a4a9c574c7050e7bb84c2c8</td>\n",
              "      <td>DAKAR</td>\n",
              "      <td>K &gt; 24 month</td>\n",
              "      <td>3300.0</td>\n",
              "      <td>25.0</td>\n",
              "      <td>3400.0</td>\n",
              "      <td>1133.0</td>\n",
              "      <td>26.0</td>\n",
              "      <td>7150.0</td>\n",
              "      <td>0.0</td>\n",
              "      <td>2.0</td>\n",
              "      <td>5.0</td>\n",
              "      <td>NaN</td>\n",
              "      <td>NaN</td>\n",
              "      <td>NO</td>\n",
              "      <td>57</td>\n",
              "      <td>Data: 100 F=40MB,24H</td>\n",
              "      <td>22.0</td>\n",
              "    </tr>\n",
              "    <tr>\n",
              "      <th>3</th>\n",
              "      <td>0000b76d2145d9445d9ff6b65c9ebc4196c89337</td>\n",
              "      <td>NaN</td>\n",
              "      <td>K &gt; 24 month</td>\n",
              "      <td>NaN</td>\n",
              "      <td>NaN</td>\n",
              "      <td>NaN</td>\n",
              "      <td>NaN</td>\n",
              "      <td>NaN</td>\n",
              "      <td>NaN</td>\n",
              "      <td>NaN</td>\n",
              "      <td>NaN</td>\n",
              "      <td>NaN</td>\n",
              "      <td>NaN</td>\n",
              "      <td>NaN</td>\n",
              "      <td>NO</td>\n",
              "      <td>9</td>\n",
              "      <td>NaN</td>\n",
              "      <td>NaN</td>\n",
              "    </tr>\n",
              "    <tr>\n",
              "      <th>4</th>\n",
              "      <td>0000bae5480628cf8fe51ad84bcb39772fc79224</td>\n",
              "      <td>NaN</td>\n",
              "      <td>K &gt; 24 month</td>\n",
              "      <td>NaN</td>\n",
              "      <td>NaN</td>\n",
              "      <td>NaN</td>\n",
              "      <td>NaN</td>\n",
              "      <td>NaN</td>\n",
              "      <td>NaN</td>\n",
              "      <td>NaN</td>\n",
              "      <td>NaN</td>\n",
              "      <td>NaN</td>\n",
              "      <td>NaN</td>\n",
              "      <td>NaN</td>\n",
              "      <td>NO</td>\n",
              "      <td>10</td>\n",
              "      <td>NaN</td>\n",
              "      <td>NaN</td>\n",
              "    </tr>\n",
              "  </tbody>\n",
              "</table>\n",
              "</div>"
            ],
            "text/plain": [
              "                                    user_id  ... FREQ_TOP_PACK\n",
              "0  00001dbe00e56fc4b1c1b65dda63de2a5ece55f9  ...           5.0\n",
              "1  000055d41c8a62052dd426592e8a4a3342bf565d  ...           1.0\n",
              "2  000081dd3245e6869a4a9c574c7050e7bb84c2c8  ...          22.0\n",
              "3  0000b76d2145d9445d9ff6b65c9ebc4196c89337  ...           NaN\n",
              "4  0000bae5480628cf8fe51ad84bcb39772fc79224  ...           NaN\n",
              "\n",
              "[5 rows x 18 columns]"
            ]
          },
          "execution_count": 31,
          "metadata": {
            "tags": []
          },
          "output_type": "execute_result"
        }
      ],
      "source": [
        "test.head()"
      ]
    },
    {
      "cell_type": "markdown",
      "metadata": {
        "colab_type": "text",
        "id": "yQrtnPnuEJr1"
      },
      "source": [
        "# Modeling"
      ]
    },
    {
      "cell_type": "markdown",
      "metadata": {},
      "source": [
        "Here is an explanation of the features, I created :\n",
        "*   Cont_tenure : It represents the duration of a customer in the network ;\n",
        "*   { REVENUE-MONTANT, REVENUE/MONTANT } : this set of features access how much of his income, a customer is willing to spend ;\n",
        "\n",
        "*   { TENURE/FREQUENCE_RECH, TENURE/REGULARITY } : this set of features access the customer loyalty ;\n",
        "\n",
        "*   The  “ *_ mean_on_reg ”  features  are a wild estimation on how customers behave across different regions ."
      ]
    },
    {
      "cell_type": "markdown",
      "metadata": {
        "colab_type": "text",
        "id": "QisR7c9MuoUr"
      },
      "source": [
        "## Interactions"
      ]
    },
    {
      "cell_type": "code",
      "execution_count": null,
      "metadata": {
        "colab": {},
        "colab_type": "code",
        "id": "_1800AQPs6lv"
      },
      "outputs": [],
      "source": [
        "tenure_mapper = {\n",
        "  \"K > 24 month\": 24, \n",
        "  \"I 18-21 month\": 18, \n",
        "  \"G 12-15 month\": 12, \n",
        "  \"H 15-18 month\": 15, \n",
        "  \"J 21-24 month\": 21, \n",
        "  \"F 9-12 month\": 9, \n",
        "  \"D 3-6 month\": 3, \n",
        "  \"E 6-9 month\": 6,\n",
        "}\n",
        "\n",
        "train['cont_tenure'] = train['TENURE'].map(tenure_mapper)\n",
        "test['cont_tenure'] = test['TENURE'].map(tenure_mapper)"
      ]
    },
    {
      "cell_type": "code",
      "execution_count": null,
      "metadata": {
        "colab": {},
        "colab_type": "code",
        "id": "GTdZ4FCgvbnW"
      },
      "outputs": [],
      "source": [
        "train['REVENUE-MONTANT'] = train['REVENUE'] - train['MONTANT']\n",
        "train['REVENUE/MONTANT'] = train['REVENUE'] / train['MONTANT']\n",
        "train['TENURE/FREQUENCE_RECH'] = train['cont_tenure'] / train['FREQUENCE_RECH']\n",
        "train['TENURE/REGULARITY'] = train['cont_tenure'] / train['REGULARITY']"
      ]
    },
    {
      "cell_type": "code",
      "execution_count": null,
      "metadata": {
        "colab": {},
        "colab_type": "code",
        "id": "A6Qz7q3WwXzi"
      },
      "outputs": [],
      "source": [
        "test['REVENUE-MONTANT'] = test['REVENUE'] - test['MONTANT']\n",
        "test['REVENUE/MONTANT'] = test['REVENUE'] / test['MONTANT']\n",
        "test['TENURE/FREQUENCE_RECH'] = test['cont_tenure'] / test['FREQUENCE_RECH']\n",
        "test['TENURE/REGULARITY'] = test['cont_tenure'] / test['REGULARITY']"
      ]
    },
    {
      "cell_type": "markdown",
      "metadata": {
        "colab_type": "text",
        "id": "DgJCaK9dwMa4"
      },
      "source": [
        "## Groupby"
      ]
    },
    {
      "cell_type": "code",
      "execution_count": null,
      "metadata": {
        "colab": {
          "base_uri": "https://localhost:8080/",
          "height": 151
        },
        "colab_type": "code",
        "id": "zq3cu0efyLUt",
        "outputId": "26a9410c-8a80-499b-b425-7b468aa10e3c"
      },
      "outputs": [
        {
          "data": {
            "text/html": [
              "<div>\n",
              "<style scoped>\n",
              "    .dataframe tbody tr th:only-of-type {\n",
              "        vertical-align: middle;\n",
              "    }\n",
              "\n",
              "    .dataframe tbody tr th {\n",
              "        vertical-align: top;\n",
              "    }\n",
              "\n",
              "    .dataframe thead th {\n",
              "        text-align: right;\n",
              "    }\n",
              "</style>\n",
              "<table border=\"1\" class=\"dataframe\">\n",
              "  <thead>\n",
              "    <tr style=\"text-align: right;\">\n",
              "      <th></th>\n",
              "      <th>user_id</th>\n",
              "      <th>REGION</th>\n",
              "      <th>TENURE</th>\n",
              "      <th>MONTANT</th>\n",
              "      <th>FREQUENCE_RECH</th>\n",
              "      <th>REVENUE</th>\n",
              "      <th>ARPU_SEGMENT</th>\n",
              "      <th>FREQUENCE</th>\n",
              "      <th>DATA_VOLUME</th>\n",
              "      <th>ON_NET</th>\n",
              "      <th>ORANGE</th>\n",
              "      <th>TIGO</th>\n",
              "      <th>ZONE1</th>\n",
              "      <th>ZONE2</th>\n",
              "      <th>MRG</th>\n",
              "      <th>REGULARITY</th>\n",
              "      <th>TOP_PACK</th>\n",
              "      <th>FREQ_TOP_PACK</th>\n",
              "      <th>CHURN</th>\n",
              "      <th>cont_tenure</th>\n",
              "      <th>REVENUE-MONTANT</th>\n",
              "      <th>REVENUE/MONTANT</th>\n",
              "      <th>TENURE/FREQUENCE_RECH</th>\n",
              "      <th>TENURE/REGULARITY</th>\n",
              "    </tr>\n",
              "  </thead>\n",
              "  <tbody>\n",
              "    <tr>\n",
              "      <th>0</th>\n",
              "      <td>00000bfd7d50f01092811bc0c8d7b0d6fe7c3596</td>\n",
              "      <td>FATICK</td>\n",
              "      <td>K &gt; 24 month</td>\n",
              "      <td>4250.0</td>\n",
              "      <td>15.0</td>\n",
              "      <td>4251.0</td>\n",
              "      <td>1417.0</td>\n",
              "      <td>17.0</td>\n",
              "      <td>4.0</td>\n",
              "      <td>388.0</td>\n",
              "      <td>46.0</td>\n",
              "      <td>1.0</td>\n",
              "      <td>1.0</td>\n",
              "      <td>2.0</td>\n",
              "      <td>NO</td>\n",
              "      <td>54</td>\n",
              "      <td>On net 200F=Unlimited _call24H</td>\n",
              "      <td>8.0</td>\n",
              "      <td>0</td>\n",
              "      <td>24</td>\n",
              "      <td>1.0</td>\n",
              "      <td>1.000235</td>\n",
              "      <td>1.6</td>\n",
              "      <td>0.444444</td>\n",
              "    </tr>\n",
              "  </tbody>\n",
              "</table>\n",
              "</div>"
            ],
            "text/plain": [
              "                                    user_id  ... TENURE/REGULARITY\n",
              "0  00000bfd7d50f01092811bc0c8d7b0d6fe7c3596  ...          0.444444\n",
              "\n",
              "[1 rows x 24 columns]"
            ]
          },
          "execution_count": 50,
          "metadata": {
            "tags": []
          },
          "output_type": "execute_result"
        }
      ],
      "source": [
        "train.head(1)"
      ]
    },
    {
      "cell_type": "code",
      "execution_count": null,
      "metadata": {
        "colab": {},
        "colab_type": "code",
        "id": "5IW8bbbEwOXj"
      },
      "outputs": [],
      "source": [
        "region = train.groupby('REGION').mean()"
      ]
    },
    {
      "cell_type": "code",
      "execution_count": null,
      "metadata": {
        "colab": {},
        "colab_type": "code",
        "id": "31FITek-ytkD"
      },
      "outputs": [],
      "source": [
        "reg_cols = region.columns.tolist()\n",
        "reg_mapper = {}\n",
        "\n",
        "for c in reg_cols:\n",
        "  reg_mapper[c] = c+'_mean_on_reg'"
      ]
    },
    {
      "cell_type": "code",
      "execution_count": null,
      "metadata": {
        "colab": {},
        "colab_type": "code",
        "id": "DMq8FUkQ1SBE"
      },
      "outputs": [],
      "source": [
        "region.rename(columns=reg_mapper, inplace=True)\n",
        "region['REGION'] = region.index\n",
        "region.reset_index(drop=True, inplace=True)"
      ]
    },
    {
      "cell_type": "markdown",
      "metadata": {
        "colab_type": "text",
        "id": "D5_5eQ611nPu"
      },
      "source": [
        "## Merging"
      ]
    },
    {
      "cell_type": "code",
      "execution_count": null,
      "metadata": {
        "colab": {
          "base_uri": "https://localhost:8080/",
          "height": 35
        },
        "colab_type": "code",
        "id": "uEuhQvjwk1s-",
        "outputId": "814b0bba-d0ed-4a42-b8da-a0aa4067ab2d"
      },
      "outputs": [
        {
          "data": {
            "text/plain": [
              "(14, 14, 14)"
            ]
          },
          "execution_count": 54,
          "metadata": {
            "tags": []
          },
          "output_type": "execute_result"
        }
      ],
      "source": [
        "region.REGION.nunique(), test.REGION.nunique(), train.REGION.nunique()"
      ]
    },
    {
      "cell_type": "code",
      "execution_count": null,
      "metadata": {
        "colab": {},
        "colab_type": "code",
        "id": "t_O1HJZK1hY4"
      },
      "outputs": [],
      "source": [
        "train = train.merge(region, on='REGION', how='left')\n",
        "test = test.merge(region, on='REGION', how='left')"
      ]
    },
    {
      "cell_type": "code",
      "execution_count": null,
      "metadata": {
        "colab": {
          "base_uri": "https://localhost:8080/",
          "height": 35
        },
        "colab_type": "code",
        "id": "ep_Rn6Ruo0xe",
        "outputId": "36bd0da9-8f88-4a6f-b334-a1ad22d3fad2"
      },
      "outputs": [
        {
          "data": {
            "text/plain": [
              "((2154048, 43), (380127, 42))"
            ]
          },
          "execution_count": 56,
          "metadata": {
            "tags": []
          },
          "output_type": "execute_result"
        }
      ],
      "source": [
        "train.shape, test.shape"
      ]
    },
    {
      "cell_type": "code",
      "execution_count": null,
      "metadata": {
        "colab": {},
        "colab_type": "code",
        "id": "OPBJoKUC7vWy"
      },
      "outputs": [],
      "source": [
        "target = 'CHURN'\n",
        "columns = train.columns\n",
        "conts = train.select_dtypes(include=np.number).columns.difference([target])\n",
        "cats = train.select_dtypes(exclude=np.number).columns"
      ]
    },
    {
      "cell_type": "code",
      "execution_count": null,
      "metadata": {
        "colab": {
          "base_uri": "https://localhost:8080/",
          "height": 297
        },
        "colab_type": "code",
        "id": "t5TckmPM3y02",
        "outputId": "56ee3912-3bdd-4346-aadb-3b3f9a3ff1c7"
      },
      "outputs": [
        {
          "data": {
            "text/plain": [
              "<matplotlib.axes._subplots.AxesSubplot at 0x7fc2a82351d0>"
            ]
          },
          "execution_count": 58,
          "metadata": {
            "tags": []
          },
          "output_type": "execute_result"
        },
        {
          "data": {
            "image/png": "[encoded data removed]",
            "text/plain": [
              "<Figure size 432x288 with 1 Axes>"
            ]
          },
          "metadata": {
            "needs_background": "light",
            "tags": []
          },
          "output_type": "display_data"
        }
      ],
      "source": [
        "sns.barplot(x='REGION', y='CHURN_mean_on_reg', data=train)"
      ]
    },
    {
      "cell_type": "markdown",
      "metadata": {
        "colab_type": "text",
        "id": "wisFzp-1DGO3"
      },
      "source": [
        "# Training"
      ]
    },
    {
      "cell_type": "code",
      "execution_count": null,
      "metadata": {
        "colab": {},
        "colab_type": "code",
        "id": "oaukNCNDDIX_"
      },
      "outputs": [],
      "source": [
        "n_skf = 5\n",
        "kf = StratifiedKFold(n_skf)\n",
        "\n",
        "params = {\n",
        "    'n_estimators': 3000,\n",
        "    'learning_rate': 0.1,\n",
        "    'objective': 'Logloss',\n",
        "    'rsm': 0.7,\n",
        "    'random_seed': seed,\n",
        "    'early_stopping_rounds': 200,\n",
        "    'use_best_model': True,\n",
        "}"
      ]
    },
    {
      "cell_type": "code",
      "execution_count": null,
      "metadata": {
        "colab": {
          "base_uri": "https://localhost:8080/",
          "height": 1000
        },
        "colab_type": "code",
        "id": "oustNFy-DIU3",
        "outputId": "9d313dc4-3e32-4c45-99b2-8bb32a6a87df"
      },
      "outputs": [
        {
          "name": "stdout",
          "output_type": "stream",
          "text": [
            "0:\tlearn: 0.5574418\ttest: 0.5574314\tbest: 0.5574314 (0)\ttotal: 818ms\tremaining: 41m\n",
            "10:\tlearn: 0.2717279\ttest: 0.2717671\tbest: 0.2717671 (10)\ttotal: 9.27s\tremaining: 42m 8s\n",
            "20:\tlearn: 0.2562327\ttest: 0.2563130\tbest: 0.2563130 (20)\ttotal: 17.7s\tremaining: 41m 52s\n",
            "30:\tlearn: 0.2537261\ttest: 0.2538436\tbest: 0.2538436 (30)\ttotal: 26s\tremaining: 41m 33s\n",
            "40:\tlearn: 0.2529551\ttest: 0.2531133\tbest: 0.2531133 (40)\ttotal: 34.3s\tremaining: 41m 20s\n",
            "50:\tlearn: 0.2525440\ttest: 0.2527459\tbest: 0.2527459 (50)\ttotal: 42.8s\tremaining: 41m 23s\n",
            "60:\tlearn: 0.2522540\ttest: 0.2524918\tbest: 0.2524918 (60)\ttotal: 51.2s\tremaining: 41m 15s\n",
            "70:\tlearn: 0.2520655\ttest: 0.2523438\tbest: 0.2523438 (70)\ttotal: 59.6s\tremaining: 41m 6s\n",
            "80:\tlearn: 0.2519078\ttest: 0.2522149\tbest: 0.2522149 (80)\ttotal: 1m 8s\tremaining: 40m 59s\n",
            "90:\tlearn: 0.2517770\ttest: 0.2521155\tbest: 0.2521155 (90)\ttotal: 1m 16s\tremaining: 40m 48s\n",
            "100:\tlearn: 0.2516850\ttest: 0.2520499\tbest: 0.2520499 (100)\ttotal: 1m 24s\tremaining: 40m 42s\n",
            "110:\tlearn: 0.2515909\ttest: 0.2519843\tbest: 0.2519843 (110)\ttotal: 1m 33s\tremaining: 40m 31s\n",
            "120:\tlearn: 0.2515050\ttest: 0.2519255\tbest: 0.2519255 (120)\ttotal: 1m 41s\tremaining: 40m 22s\n",
            "130:\tlearn: 0.2514360\ttest: 0.2518760\tbest: 0.2518760 (130)\ttotal: 1m 49s\tremaining: 40m 11s\n",
            "140:\tlearn: 0.2513607\ttest: 0.2518297\tbest: 0.2518297 (140)\ttotal: 1m 58s\tremaining: 40m 3s\n",
            "150:\tlearn: 0.2512770\ttest: 0.2517750\tbest: 0.2517750 (150)\ttotal: 2m 6s\tremaining: 39m 55s\n",
            "160:\tlearn: 0.2512139\ttest: 0.2517425\tbest: 0.2517425 (160)\ttotal: 2m 14s\tremaining: 39m 48s\n",
            "170:\tlearn: 0.2511446\ttest: 0.2516977\tbest: 0.2516977 (170)\ttotal: 2m 23s\tremaining: 39m 41s\n",
            "180:\tlearn: 0.2510713\ttest: 0.2516488\tbest: 0.2516488 (180)\ttotal: 2m 31s\tremaining: 39m 32s\n",
            "190:\tlearn: 0.2509979\ttest: 0.2516097\tbest: 0.2516097 (190)\ttotal: 2m 40s\tremaining: 39m 24s\n",
            "200:\tlearn: 0.2509445\ttest: 0.2515826\tbest: 0.2515826 (200)\ttotal: 2m 48s\tremaining: 39m 16s\n",
            "210:\tlearn: 0.2508734\ttest: 0.2515519\tbest: 0.2515519 (210)\ttotal: 2m 56s\tremaining: 39m 7s\n",
            "220:\tlearn: 0.2508099\ttest: 0.2515252\tbest: 0.2515252 (220)\ttotal: 3m 6s\tremaining: 39m 11s\n",
            "230:\tlearn: 0.2507513\ttest: 0.2515022\tbest: 0.2515022 (230)\ttotal: 3m 14s\tremaining: 39m 1s\n",
            "240:\tlearn: 0.2507008\ttest: 0.2514836\tbest: 0.2514836 (240)\ttotal: 3m 22s\tremaining: 38m 51s\n",
            "250:\tlearn: 0.2506611\ttest: 0.2514675\tbest: 0.2514675 (250)\ttotal: 3m 31s\tremaining: 38m 41s\n",
            "260:\tlearn: 0.2506100\ttest: 0.2514431\tbest: 0.2514431 (260)\ttotal: 3m 39s\tremaining: 38m 33s\n",
            "270:\tlearn: 0.2505571\ttest: 0.2514227\tbest: 0.2514227 (270)\ttotal: 3m 48s\tremaining: 38m 25s\n",
            "280:\tlearn: 0.2505070\ttest: 0.2513994\tbest: 0.2513989 (279)\ttotal: 3m 56s\tremaining: 38m 14s\n",
            "290:\tlearn: 0.2504629\ttest: 0.2513811\tbest: 0.2513803 (289)\ttotal: 4m 4s\tremaining: 38m 5s\n",
            "300:\tlearn: 0.2504213\ttest: 0.2513680\tbest: 0.2513680 (300)\ttotal: 4m 13s\tremaining: 37m 57s\n",
            "310:\tlearn: 0.2503803\ttest: 0.2513558\tbest: 0.2513558 (310)\ttotal: 4m 21s\tremaining: 37m 48s\n",
            "320:\tlearn: 0.2503367\ttest: 0.2513322\tbest: 0.2513322 (320)\ttotal: 4m 29s\tremaining: 37m 39s\n",
            "330:\tlearn: 0.2502931\ttest: 0.2513196\tbest: 0.2513196 (330)\ttotal: 4m 38s\tremaining: 37m 30s\n",
            "340:\tlearn: 0.2502513\ttest: 0.2513040\tbest: 0.2513039 (339)\ttotal: 4m 46s\tremaining: 37m 22s\n",
            "350:\tlearn: 0.2502119\ttest: 0.2512958\tbest: 0.2512958 (350)\ttotal: 4m 54s\tremaining: 37m 13s\n",
            "360:\tlearn: 0.2501766\ttest: 0.2512861\tbest: 0.2512861 (360)\ttotal: 5m 3s\tremaining: 37m 4s\n",
            "370:\tlearn: 0.2501487\ttest: 0.2512815\tbest: 0.2512815 (370)\ttotal: 5m 11s\tremaining: 36m 54s\n",
            "380:\tlearn: 0.2501042\ttest: 0.2512664\tbest: 0.2512663 (379)\ttotal: 5m 19s\tremaining: 36m 46s\n",
            "390:\tlearn: 0.2500676\ttest: 0.2512590\tbest: 0.2512589 (388)\ttotal: 5m 28s\tremaining: 36m 38s\n",
            "400:\tlearn: 0.2500295\ttest: 0.2512514\tbest: 0.2512494 (396)\ttotal: 5m 36s\tremaining: 36m 29s\n",
            "410:\tlearn: 0.2499898\ttest: 0.2512365\tbest: 0.2512365 (410)\ttotal: 5m 44s\tremaining: 36m 21s\n",
            "420:\tlearn: 0.2499564\ttest: 0.2512325\tbest: 0.2512325 (420)\ttotal: 5m 53s\tremaining: 36m 12s\n",
            "430:\tlearn: 0.2499226\ttest: 0.2512230\tbest: 0.2512230 (430)\ttotal: 6m 1s\tremaining: 36m 3s\n",
            "440:\tlearn: 0.2498906\ttest: 0.2512131\tbest: 0.2512131 (440)\ttotal: 6m 9s\tremaining: 35m 53s\n",
            "450:\tlearn: 0.2498583\ttest: 0.2512114\tbest: 0.2512113 (447)\ttotal: 6m 18s\tremaining: 35m 46s\n",
            "460:\tlearn: 0.2498282\ttest: 0.2512027\tbest: 0.2512027 (460)\ttotal: 6m 26s\tremaining: 35m 37s\n",
            "470:\tlearn: 0.2497918\ttest: 0.2511991\tbest: 0.2511963 (467)\ttotal: 6m 34s\tremaining: 35m 29s\n",
            "480:\tlearn: 0.2497595\ttest: 0.2511901\tbest: 0.2511901 (480)\ttotal: 6m 43s\tremaining: 35m 20s\n",
            "490:\tlearn: 0.2497273\ttest: 0.2511860\tbest: 0.2511853 (485)\ttotal: 6m 51s\tremaining: 35m 12s\n",
            "500:\tlearn: 0.2497038\ttest: 0.2511842\tbest: 0.2511827 (495)\ttotal: 7m\tremaining: 35m 3s\n",
            "510:\tlearn: 0.2496726\ttest: 0.2511741\tbest: 0.2511741 (510)\ttotal: 7m 8s\tremaining: 34m 55s\n",
            "520:\tlearn: 0.2496429\ttest: 0.2511713\tbest: 0.2511713 (520)\ttotal: 7m 17s\tremaining: 34m 47s\n",
            "530:\tlearn: 0.2496129\ttest: 0.2511642\tbest: 0.2511642 (530)\ttotal: 7m 25s\tremaining: 34m 39s\n",
            "540:\tlearn: 0.2495858\ttest: 0.2511647\tbest: 0.2511642 (530)\ttotal: 7m 33s\tremaining: 34m 31s\n",
            "550:\tlearn: 0.2495512\ttest: 0.2511623\tbest: 0.2511616 (541)\ttotal: 7m 42s\tremaining: 34m 22s\n",
            "560:\tlearn: 0.2495217\ttest: 0.2511550\tbest: 0.2511544 (559)\ttotal: 7m 50s\tremaining: 34m 15s\n",
            "570:\tlearn: 0.2494899\ttest: 0.2511500\tbest: 0.2511496 (569)\ttotal: 7m 59s\tremaining: 34m 7s\n",
            "580:\tlearn: 0.2494590\ttest: 0.2511467\tbest: 0.2511467 (580)\ttotal: 8m 7s\tremaining: 33m 59s\n",
            "590:\tlearn: 0.2494373\ttest: 0.2511484\tbest: 0.2511450 (582)\ttotal: 8m 15s\tremaining: 33m 50s\n",
            "600:\tlearn: 0.2494089\ttest: 0.2511446\tbest: 0.2511446 (600)\ttotal: 8m 24s\tremaining: 33m 41s\n",
            "610:\tlearn: 0.2493785\ttest: 0.2511459\tbest: 0.2511432 (603)\ttotal: 8m 32s\tremaining: 33m 32s\n",
            "620:\tlearn: 0.2493494\ttest: 0.2511346\tbest: 0.2511344 (619)\ttotal: 8m 40s\tremaining: 33m 24s\n",
            "630:\tlearn: 0.2493192\ttest: 0.2511330\tbest: 0.2511329 (621)\ttotal: 8m 49s\tremaining: 33m 15s\n",
            "640:\tlearn: 0.2492881\ttest: 0.2511287\tbest: 0.2511287 (640)\ttotal: 8m 57s\tremaining: 33m 6s\n",
            "650:\tlearn: 0.2492593\ttest: 0.2511261\tbest: 0.2511261 (650)\ttotal: 9m 5s\tremaining: 32m 58s\n",
            "660:\tlearn: 0.2492353\ttest: 0.2511308\tbest: 0.2511261 (650)\ttotal: 9m 14s\tremaining: 32m 49s\n",
            "670:\tlearn: 0.2492076\ttest: 0.2511269\tbest: 0.2511259 (668)\ttotal: 9m 22s\tremaining: 32m 41s\n",
            "680:\tlearn: 0.2491843\ttest: 0.2511231\tbest: 0.2511231 (680)\ttotal: 9m 30s\tremaining: 32m 32s\n",
            "690:\tlearn: 0.2491559\ttest: 0.2511240\tbest: 0.2511220 (681)\ttotal: 9m 39s\tremaining: 32m 23s\n",
            "700:\tlearn: 0.2491303\ttest: 0.2511213\tbest: 0.2511210 (698)\ttotal: 9m 47s\tremaining: 32m 15s\n",
            "710:\tlearn: 0.2491100\ttest: 0.2511199\tbest: 0.2511197 (707)\ttotal: 9m 55s\tremaining: 32m 5s\n",
            "720:\tlearn: 0.2490866\ttest: 0.2511173\tbest: 0.2511164 (715)\ttotal: 10m 3s\tremaining: 31m 57s\n",
            "730:\tlearn: 0.2490581\ttest: 0.2511156\tbest: 0.2511156 (730)\ttotal: 10m 12s\tremaining: 31m 48s\n",
            "740:\tlearn: 0.2490296\ttest: 0.2511077\tbest: 0.2511077 (740)\ttotal: 10m 20s\tremaining: 31m 39s\n",
            "750:\tlearn: 0.2490044\ttest: 0.2511070\tbest: 0.2511070 (750)\ttotal: 10m 28s\tremaining: 31m 31s\n",
            "760:\tlearn: 0.2489782\ttest: 0.2511103\tbest: 0.2511070 (750)\ttotal: 10m 37s\tremaining: 31m 22s\n",
            "770:\tlearn: 0.2489508\ttest: 0.2511109\tbest: 0.2511070 (750)\ttotal: 10m 45s\tremaining: 31m 14s\n",
            "780:\tlearn: 0.2489229\ttest: 0.2511068\tbest: 0.2511068 (780)\ttotal: 10m 53s\tremaining: 31m 5s\n",
            "790:\tlearn: 0.2488955\ttest: 0.2511062\tbest: 0.2511051 (781)\ttotal: 11m 2s\tremaining: 30m 57s\n",
            "800:\tlearn: 0.2488726\ttest: 0.2511046\tbest: 0.2511045 (798)\ttotal: 11m 10s\tremaining: 30m 48s\n",
            "810:\tlearn: 0.2488554\ttest: 0.2511033\tbest: 0.2511018 (806)\ttotal: 11m 18s\tremaining: 30m 38s\n",
            "820:\tlearn: 0.2488264\ttest: 0.2510982\tbest: 0.2510982 (820)\ttotal: 11m 26s\tremaining: 30m 30s\n",
            "830:\tlearn: 0.2487960\ttest: 0.2510987\tbest: 0.2510965 (821)\ttotal: 11m 34s\tremaining: 30m 22s\n",
            "840:\tlearn: 0.2487733\ttest: 0.2510990\tbest: 0.2510965 (821)\ttotal: 11m 43s\tremaining: 30m 13s\n",
            "850:\tlearn: 0.2487489\ttest: 0.2510972\tbest: 0.2510965 (821)\ttotal: 11m 51s\tremaining: 30m 5s\n",
            "860:\tlearn: 0.2487219\ttest: 0.2510963\tbest: 0.2510961 (854)\ttotal: 11m 59s\tremaining: 29m 56s\n",
            "870:\tlearn: 0.2486981\ttest: 0.2510961\tbest: 0.2510941 (868)\ttotal: 12m 8s\tremaining: 29m 48s\n",
            "880:\tlearn: 0.2486763\ttest: 0.2511000\tbest: 0.2510941 (868)\ttotal: 12m 16s\tremaining: 29m 39s\n",
            "890:\tlearn: 0.2486550\ttest: 0.2511016\tbest: 0.2510941 (868)\ttotal: 12m 24s\tremaining: 29m 31s\n",
            "900:\tlearn: 0.2486299\ttest: 0.2511013\tbest: 0.2510941 (868)\ttotal: 12m 32s\tremaining: 29m 22s\n",
            "910:\tlearn: 0.2486049\ttest: 0.2511035\tbest: 0.2510941 (868)\ttotal: 12m 41s\tremaining: 29m 13s\n",
            "920:\tlearn: 0.2485846\ttest: 0.2510998\tbest: 0.2510941 (868)\ttotal: 12m 49s\tremaining: 29m 4s\n",
            "930:\tlearn: 0.2485580\ttest: 0.2510967\tbest: 0.2510941 (868)\ttotal: 12m 57s\tremaining: 28m 56s\n",
            "940:\tlearn: 0.2485325\ttest: 0.2510961\tbest: 0.2510941 (868)\ttotal: 13m 5s\tremaining: 28m 47s\n",
            "950:\tlearn: 0.2485093\ttest: 0.2511000\tbest: 0.2510941 (868)\ttotal: 13m 15s\tremaining: 28m 41s\n",
            "960:\tlearn: 0.2484853\ttest: 0.2511003\tbest: 0.2510941 (868)\ttotal: 13m 23s\tremaining: 28m 33s\n",
            "970:\tlearn: 0.2484573\ttest: 0.2511034\tbest: 0.2510941 (868)\ttotal: 13m 32s\tremaining: 28m 25s\n",
            "980:\tlearn: 0.2484330\ttest: 0.2511053\tbest: 0.2510941 (868)\ttotal: 13m 40s\tremaining: 28m 16s\n",
            "990:\tlearn: 0.2484115\ttest: 0.2511052\tbest: 0.2510941 (868)\ttotal: 13m 48s\tremaining: 28m 8s\n",
            "1000:\tlearn: 0.2483877\ttest: 0.2510999\tbest: 0.2510941 (868)\ttotal: 13m 56s\tremaining: 27m 59s\n",
            "1010:\tlearn: 0.2483663\ttest: 0.2510990\tbest: 0.2510941 (868)\ttotal: 14m 5s\tremaining: 27m 51s\n",
            "1020:\tlearn: 0.2483440\ttest: 0.2510956\tbest: 0.2510941 (868)\ttotal: 14m 13s\tremaining: 27m 42s\n",
            "1030:\tlearn: 0.2483167\ttest: 0.2510965\tbest: 0.2510941 (868)\ttotal: 14m 21s\tremaining: 27m 34s\n",
            "1040:\tlearn: 0.2482901\ttest: 0.2510955\tbest: 0.2510939 (1037)\ttotal: 14m 30s\tremaining: 27m 26s\n",
            "1050:\tlearn: 0.2482677\ttest: 0.2510976\tbest: 0.2510939 (1037)\ttotal: 14m 38s\tremaining: 27m 17s\n",
            "1060:\tlearn: 0.2482455\ttest: 0.2510959\tbest: 0.2510939 (1037)\ttotal: 14m 47s\tremaining: 27m 9s\n",
            "1070:\tlearn: 0.2482248\ttest: 0.2511006\tbest: 0.2510939 (1037)\ttotal: 14m 55s\tremaining: 27m\n",
            "1080:\tlearn: 0.2482029\ttest: 0.2510993\tbest: 0.2510939 (1037)\ttotal: 15m 3s\tremaining: 26m 52s\n",
            "1090:\tlearn: 0.2481827\ttest: 0.2511004\tbest: 0.2510939 (1037)\ttotal: 15m 11s\tremaining: 26m 43s\n",
            "1100:\tlearn: 0.2481586\ttest: 0.2511014\tbest: 0.2510939 (1037)\ttotal: 15m 20s\tremaining: 26m 35s\n",
            "1110:\tlearn: 0.2481377\ttest: 0.2511051\tbest: 0.2510939 (1037)\ttotal: 15m 28s\tremaining: 26m 27s\n",
            "1120:\tlearn: 0.2481133\ttest: 0.2511073\tbest: 0.2510939 (1037)\ttotal: 15m 36s\tremaining: 26m 18s\n",
            "1130:\tlearn: 0.2480929\ttest: 0.2511087\tbest: 0.2510939 (1037)\ttotal: 15m 45s\tremaining: 26m 10s\n",
            "1140:\tlearn: 0.2480700\ttest: 0.2511126\tbest: 0.2510939 (1037)\ttotal: 15m 53s\tremaining: 26m 1s\n",
            "1150:\tlearn: 0.2480545\ttest: 0.2511150\tbest: 0.2510939 (1037)\ttotal: 16m 1s\tremaining: 25m 52s\n",
            "1160:\tlearn: 0.2480354\ttest: 0.2511186\tbest: 0.2510939 (1037)\ttotal: 16m 9s\tremaining: 25m 44s\n",
            "1170:\tlearn: 0.2480084\ttest: 0.2511197\tbest: 0.2510939 (1037)\ttotal: 16m 18s\tremaining: 25m 35s\n",
            "1180:\tlearn: 0.2479874\ttest: 0.2511195\tbest: 0.2510939 (1037)\ttotal: 16m 26s\tremaining: 25m 27s\n",
            "1190:\tlearn: 0.2479652\ttest: 0.2511235\tbest: 0.2510939 (1037)\ttotal: 16m 34s\tremaining: 25m 19s\n",
            "1200:\tlearn: 0.2479441\ttest: 0.2511237\tbest: 0.2510939 (1037)\ttotal: 16m 43s\tremaining: 25m 10s\n",
            "1210:\tlearn: 0.2479230\ttest: 0.2511232\tbest: 0.2510939 (1037)\ttotal: 16m 51s\tremaining: 25m 2s\n",
            "1220:\tlearn: 0.2478995\ttest: 0.2511283\tbest: 0.2510939 (1037)\ttotal: 17m\tremaining: 24m 54s\n",
            "1230:\tlearn: 0.2478807\ttest: 0.2511271\tbest: 0.2510939 (1037)\ttotal: 17m 8s\tremaining: 24m 46s\n",
            "Stopped by overfitting detector  (200 iterations wait)\n",
            "\n",
            "bestTest = 0.2510939356\n",
            "bestIteration = 1037\n",
            "\n",
            "Shrink model to first 1038 iterations.\n",
            "Fold 0 : 0.25109393555628595\n",
            "0:\tlearn: 0.5593228\ttest: 0.5594165\tbest: 0.5594165 (0)\ttotal: 865ms\tremaining: 43m 22s\n",
            "10:\tlearn: 0.2717436\ttest: 0.2723946\tbest: 0.2723946 (10)\ttotal: 9.5s\tremaining: 43m 10s\n",
            "20:\tlearn: 0.2559824\ttest: 0.2567933\tbest: 0.2567933 (20)\ttotal: 17.9s\tremaining: 42m 24s\n",
            "30:\tlearn: 0.2535094\ttest: 0.2543525\tbest: 0.2543525 (30)\ttotal: 26.1s\tremaining: 41m 46s\n",
            "40:\tlearn: 0.2527967\ttest: 0.2536505\tbest: 0.2536505 (40)\ttotal: 34.5s\tremaining: 41m 38s\n",
            "50:\tlearn: 0.2524146\ttest: 0.2532883\tbest: 0.2532883 (50)\ttotal: 42.9s\tremaining: 41m 28s\n",
            "60:\tlearn: 0.2521225\ttest: 0.2530175\tbest: 0.2530175 (60)\ttotal: 51.4s\tremaining: 41m 25s\n",
            "70:\tlearn: 0.2519480\ttest: 0.2528639\tbest: 0.2528639 (70)\ttotal: 59.8s\tremaining: 41m 17s\n",
            "80:\tlearn: 0.2518167\ttest: 0.2527671\tbest: 0.2527671 (80)\ttotal: 1m 8s\tremaining: 41m 13s\n",
            "90:\tlearn: 0.2516832\ttest: 0.2526571\tbest: 0.2526571 (90)\ttotal: 1m 17s\tremaining: 41m 11s\n",
            "100:\tlearn: 0.2515804\ttest: 0.2525708\tbest: 0.2525708 (100)\ttotal: 1m 25s\tremaining: 41m 6s\n",
            "110:\tlearn: 0.2514921\ttest: 0.2525025\tbest: 0.2525025 (110)\ttotal: 1m 34s\tremaining: 40m 58s\n",
            "120:\tlearn: 0.2513892\ttest: 0.2524203\tbest: 0.2524203 (120)\ttotal: 1m 42s\tremaining: 40m 49s\n",
            "130:\tlearn: 0.2513101\ttest: 0.2523695\tbest: 0.2523695 (130)\ttotal: 1m 50s\tremaining: 40m 39s\n",
            "140:\tlearn: 0.2512377\ttest: 0.2523306\tbest: 0.2523306 (140)\ttotal: 1m 59s\tremaining: 40m 32s\n",
            "150:\tlearn: 0.2511669\ttest: 0.2522955\tbest: 0.2522955 (150)\ttotal: 2m 8s\tremaining: 40m 26s\n",
            "160:\tlearn: 0.2510981\ttest: 0.2522483\tbest: 0.2522483 (160)\ttotal: 2m 16s\tremaining: 40m 13s\n",
            "170:\tlearn: 0.2510363\ttest: 0.2522054\tbest: 0.2522054 (170)\ttotal: 2m 24s\tremaining: 40m 4s\n",
            "180:\tlearn: 0.2509444\ttest: 0.2521378\tbest: 0.2521378 (180)\ttotal: 2m 33s\tremaining: 39m 52s\n",
            "190:\tlearn: 0.2508809\ttest: 0.2521000\tbest: 0.2521000 (190)\ttotal: 2m 41s\tremaining: 39m 41s\n",
            "200:\tlearn: 0.2508218\ttest: 0.2520632\tbest: 0.2520632 (200)\ttotal: 2m 49s\tremaining: 39m 30s\n",
            "210:\tlearn: 0.2507622\ttest: 0.2520370\tbest: 0.2520370 (210)\ttotal: 2m 57s\tremaining: 39m 19s\n",
            "220:\tlearn: 0.2507126\ttest: 0.2520079\tbest: 0.2520079 (220)\ttotal: 3m 6s\tremaining: 39m 11s\n",
            "230:\tlearn: 0.2506558\ttest: 0.2519823\tbest: 0.2519823 (230)\ttotal: 3m 14s\tremaining: 39m 2s\n",
            "240:\tlearn: 0.2505957\ttest: 0.2519552\tbest: 0.2519552 (240)\ttotal: 3m 23s\tremaining: 38m 55s\n",
            "250:\tlearn: 0.2505483\ttest: 0.2519387\tbest: 0.2519387 (250)\ttotal: 3m 31s\tremaining: 38m 45s\n",
            "260:\tlearn: 0.2505009\ttest: 0.2519197\tbest: 0.2519197 (260)\ttotal: 3m 40s\tremaining: 38m 37s\n",
            "270:\tlearn: 0.2504454\ttest: 0.2518979\tbest: 0.2518979 (270)\ttotal: 3m 48s\tremaining: 38m 31s\n",
            "280:\tlearn: 0.2504013\ttest: 0.2518794\tbest: 0.2518794 (280)\ttotal: 3m 57s\tremaining: 38m 22s\n",
            "290:\tlearn: 0.2503574\ttest: 0.2518648\tbest: 0.2518648 (290)\ttotal: 4m 5s\tremaining: 38m 13s\n",
            "300:\tlearn: 0.2503125\ttest: 0.2518447\tbest: 0.2518447 (300)\ttotal: 4m 13s\tremaining: 38m 4s\n",
            "310:\tlearn: 0.2502691\ttest: 0.2518264\tbest: 0.2518264 (310)\ttotal: 4m 22s\tremaining: 37m 55s\n",
            "320:\tlearn: 0.2502279\ttest: 0.2518146\tbest: 0.2518146 (320)\ttotal: 4m 30s\tremaining: 37m 46s\n",
            "330:\tlearn: 0.2501884\ttest: 0.2518042\tbest: 0.2518042 (330)\ttotal: 4m 39s\tremaining: 37m 38s\n",
            "340:\tlearn: 0.2501515\ttest: 0.2517940\tbest: 0.2517940 (340)\ttotal: 4m 47s\tremaining: 37m 30s\n",
            "350:\tlearn: 0.2501013\ttest: 0.2517838\tbest: 0.2517838 (350)\ttotal: 4m 56s\tremaining: 37m 22s\n",
            "360:\tlearn: 0.2500686\ttest: 0.2517732\tbest: 0.2517732 (360)\ttotal: 5m 4s\tremaining: 37m 13s\n",
            "370:\tlearn: 0.2500336\ttest: 0.2517686\tbest: 0.2517682 (369)\ttotal: 5m 12s\tremaining: 37m 5s\n",
            "380:\tlearn: 0.2499965\ttest: 0.2517527\tbest: 0.2517527 (380)\ttotal: 5m 21s\tremaining: 36m 56s\n",
            "390:\tlearn: 0.2499529\ttest: 0.2517491\tbest: 0.2517488 (388)\ttotal: 5m 29s\tremaining: 36m 48s\n",
            "400:\tlearn: 0.2499138\ttest: 0.2517435\tbest: 0.2517435 (400)\ttotal: 5m 38s\tremaining: 36m 41s\n",
            "410:\tlearn: 0.2498771\ttest: 0.2517312\tbest: 0.2517312 (410)\ttotal: 5m 46s\tremaining: 36m 32s\n",
            "420:\tlearn: 0.2498401\ttest: 0.2517195\tbest: 0.2517185 (418)\ttotal: 5m 55s\tremaining: 36m 25s\n",
            "430:\tlearn: 0.2498094\ttest: 0.2517207\tbest: 0.2517185 (418)\ttotal: 6m 5s\tremaining: 36m 24s\n",
            "440:\tlearn: 0.2497789\ttest: 0.2517162\tbest: 0.2517162 (440)\ttotal: 6m 14s\tremaining: 36m 20s\n",
            "450:\tlearn: 0.2497443\ttest: 0.2517040\tbest: 0.2517040 (450)\ttotal: 6m 23s\tremaining: 36m 13s\n",
            "460:\tlearn: 0.2497100\ttest: 0.2516974\tbest: 0.2516967 (456)\ttotal: 6m 31s\tremaining: 36m 6s\n",
            "470:\tlearn: 0.2496835\ttest: 0.2516944\tbest: 0.2516940 (467)\ttotal: 6m 40s\tremaining: 35m 57s\n",
            "480:\tlearn: 0.2496533\ttest: 0.2516893\tbest: 0.2516893 (480)\ttotal: 6m 48s\tremaining: 35m 49s\n",
            "490:\tlearn: 0.2496220\ttest: 0.2516816\tbest: 0.2516816 (490)\ttotal: 6m 57s\tremaining: 35m 41s\n",
            "500:\tlearn: 0.2495888\ttest: 0.2516797\tbest: 0.2516797 (500)\ttotal: 7m 5s\tremaining: 35m 32s\n",
            "510:\tlearn: 0.2495598\ttest: 0.2516746\tbest: 0.2516745 (509)\ttotal: 7m 14s\tremaining: 35m 24s\n",
            "520:\tlearn: 0.2495312\ttest: 0.2516696\tbest: 0.2516688 (517)\ttotal: 7m 22s\tremaining: 35m 16s\n",
            "530:\tlearn: 0.2494999\ttest: 0.2516676\tbest: 0.2516676 (530)\ttotal: 7m 31s\tremaining: 35m 8s\n",
            "540:\tlearn: 0.2494721\ttest: 0.2516632\tbest: 0.2516632 (540)\ttotal: 7m 39s\tremaining: 34m 59s\n",
            "550:\tlearn: 0.2494444\ttest: 0.2516621\tbest: 0.2516603 (546)\ttotal: 7m 48s\tremaining: 34m 50s\n",
            "560:\tlearn: 0.2494109\ttest: 0.2516544\tbest: 0.2516537 (559)\ttotal: 7m 57s\tremaining: 34m 42s\n",
            "570:\tlearn: 0.2493820\ttest: 0.2516510\tbest: 0.2516509 (569)\ttotal: 8m 5s\tremaining: 34m 33s\n",
            "580:\tlearn: 0.2493540\ttest: 0.2516481\tbest: 0.2516476 (575)\ttotal: 8m 13s\tremaining: 34m 24s\n",
            "590:\tlearn: 0.2493238\ttest: 0.2516470\tbest: 0.2516455 (587)\ttotal: 8m 22s\tremaining: 34m 16s\n",
            "600:\tlearn: 0.2492947\ttest: 0.2516464\tbest: 0.2516445 (596)\ttotal: 8m 30s\tremaining: 34m 7s\n",
            "610:\tlearn: 0.2492686\ttest: 0.2516500\tbest: 0.2516445 (596)\ttotal: 8m 39s\tremaining: 33m 58s\n",
            "620:\tlearn: 0.2492413\ttest: 0.2516507\tbest: 0.2516445 (596)\ttotal: 8m 47s\tremaining: 33m 49s\n",
            "630:\tlearn: 0.2492087\ttest: 0.2516421\tbest: 0.2516408 (629)\ttotal: 8m 56s\tremaining: 33m 41s\n",
            "640:\tlearn: 0.2491814\ttest: 0.2516408\tbest: 0.2516402 (638)\ttotal: 9m 4s\tremaining: 33m 32s\n",
            "650:\tlearn: 0.2491562\ttest: 0.2516364\tbest: 0.2516361 (649)\ttotal: 9m 13s\tremaining: 33m 24s\n",
            "660:\tlearn: 0.2491272\ttest: 0.2516369\tbest: 0.2516361 (649)\ttotal: 9m 21s\tremaining: 33m 16s\n",
            "670:\tlearn: 0.2490971\ttest: 0.2516395\tbest: 0.2516359 (665)\ttotal: 9m 30s\tremaining: 33m 7s\n",
            "680:\tlearn: 0.2490730\ttest: 0.2516330\tbest: 0.2516329 (679)\ttotal: 9m 38s\tremaining: 32m 58s\n",
            "690:\tlearn: 0.2490433\ttest: 0.2516285\tbest: 0.2516285 (690)\ttotal: 9m 47s\tremaining: 32m 50s\n",
            "700:\tlearn: 0.2490163\ttest: 0.2516281\tbest: 0.2516276 (691)\ttotal: 9m 55s\tremaining: 32m 41s\n",
            "710:\tlearn: 0.2489898\ttest: 0.2516316\tbest: 0.2516270 (702)\ttotal: 10m 3s\tremaining: 32m 32s\n",
            "720:\tlearn: 0.2489622\ttest: 0.2516273\tbest: 0.2516270 (702)\ttotal: 10m 12s\tremaining: 32m 23s\n",
            "730:\tlearn: 0.2489386\ttest: 0.2516291\tbest: 0.2516256 (722)\ttotal: 10m 20s\tremaining: 32m 15s\n",
            "740:\tlearn: 0.2489130\ttest: 0.2516285\tbest: 0.2516256 (722)\ttotal: 10m 29s\tremaining: 32m 6s\n",
            "750:\tlearn: 0.2488950\ttest: 0.2516307\tbest: 0.2516256 (722)\ttotal: 10m 37s\tremaining: 31m 57s\n",
            "760:\tlearn: 0.2488668\ttest: 0.2516257\tbest: 0.2516256 (722)\ttotal: 10m 46s\tremaining: 31m 49s\n",
            "770:\tlearn: 0.2488414\ttest: 0.2516217\tbest: 0.2516211 (769)\ttotal: 10m 54s\tremaining: 31m 40s\n",
            "780:\tlearn: 0.2488137\ttest: 0.2516227\tbest: 0.2516196 (778)\ttotal: 11m 3s\tremaining: 31m 32s\n",
            "790:\tlearn: 0.2487995\ttest: 0.2516232\tbest: 0.2516196 (778)\ttotal: 11m 11s\tremaining: 31m 22s\n",
            "800:\tlearn: 0.2487761\ttest: 0.2516250\tbest: 0.2516196 (778)\ttotal: 11m 19s\tremaining: 31m 14s\n",
            "810:\tlearn: 0.2487532\ttest: 0.2516209\tbest: 0.2516196 (778)\ttotal: 11m 27s\tremaining: 31m 5s\n",
            "820:\tlearn: 0.2487342\ttest: 0.2516214\tbest: 0.2516196 (778)\ttotal: 11m 36s\tremaining: 30m 56s\n",
            "830:\tlearn: 0.2487128\ttest: 0.2516218\tbest: 0.2516196 (778)\ttotal: 11m 44s\tremaining: 30m 46s\n",
            "840:\tlearn: 0.2486917\ttest: 0.2516202\tbest: 0.2516182 (836)\ttotal: 11m 52s\tremaining: 30m 37s\n",
            "850:\tlearn: 0.2486660\ttest: 0.2516164\tbest: 0.2516164 (848)\ttotal: 12m\tremaining: 30m 28s\n",
            "860:\tlearn: 0.2486462\ttest: 0.2516158\tbest: 0.2516147 (854)\ttotal: 12m 9s\tremaining: 30m 19s\n",
            "870:\tlearn: 0.2486192\ttest: 0.2516110\tbest: 0.2516110 (870)\ttotal: 12m 17s\tremaining: 30m 11s\n",
            "880:\tlearn: 0.2485962\ttest: 0.2516092\tbest: 0.2516092 (880)\ttotal: 12m 26s\tremaining: 30m 2s\n",
            "890:\tlearn: 0.2485746\ttest: 0.2516107\tbest: 0.2516091 (881)\ttotal: 12m 34s\tremaining: 29m 54s\n",
            "900:\tlearn: 0.2485516\ttest: 0.2516109\tbest: 0.2516091 (881)\ttotal: 12m 42s\tremaining: 29m 45s\n",
            "910:\tlearn: 0.2485315\ttest: 0.2516100\tbest: 0.2516091 (881)\ttotal: 12m 50s\tremaining: 29m 36s\n",
            "920:\tlearn: 0.2485067\ttest: 0.2516112\tbest: 0.2516080 (914)\ttotal: 12m 59s\tremaining: 29m 27s\n",
            "930:\tlearn: 0.2484830\ttest: 0.2516086\tbest: 0.2516080 (914)\ttotal: 13m 7s\tremaining: 29m 19s\n",
            "940:\tlearn: 0.2484653\ttest: 0.2516111\tbest: 0.2516080 (914)\ttotal: 13m 16s\tremaining: 29m 10s\n",
            "950:\tlearn: 0.2484475\ttest: 0.2516092\tbest: 0.2516080 (914)\ttotal: 13m 24s\tremaining: 29m 1s\n",
            "960:\tlearn: 0.2484237\ttest: 0.2516095\tbest: 0.2516080 (914)\ttotal: 13m 32s\tremaining: 28m 53s\n",
            "970:\tlearn: 0.2484025\ttest: 0.2516101\tbest: 0.2516080 (914)\ttotal: 13m 41s\tremaining: 28m 44s\n",
            "980:\tlearn: 0.2483821\ttest: 0.2516095\tbest: 0.2516080 (914)\ttotal: 13m 49s\tremaining: 28m 35s\n",
            "990:\tlearn: 0.2483570\ttest: 0.2516102\tbest: 0.2516073 (984)\ttotal: 13m 58s\tremaining: 28m 27s\n",
            "1000:\tlearn: 0.2483301\ttest: 0.2516099\tbest: 0.2516073 (984)\ttotal: 14m 6s\tremaining: 28m 19s\n",
            "1010:\tlearn: 0.2483028\ttest: 0.2516111\tbest: 0.2516073 (984)\ttotal: 14m 15s\tremaining: 28m 11s\n",
            "1020:\tlearn: 0.2482768\ttest: 0.2516104\tbest: 0.2516073 (984)\ttotal: 14m 23s\tremaining: 28m 3s\n",
            "1030:\tlearn: 0.2482525\ttest: 0.2516142\tbest: 0.2516073 (984)\ttotal: 14m 32s\tremaining: 27m 54s\n",
            "1040:\tlearn: 0.2482281\ttest: 0.2516127\tbest: 0.2516073 (984)\ttotal: 14m 41s\tremaining: 27m 46s\n",
            "1050:\tlearn: 0.2482032\ttest: 0.2516136\tbest: 0.2516073 (984)\ttotal: 14m 49s\tremaining: 27m 38s\n",
            "1060:\tlearn: 0.2481798\ttest: 0.2516093\tbest: 0.2516073 (984)\ttotal: 14m 58s\tremaining: 27m 29s\n",
            "1070:\tlearn: 0.2481560\ttest: 0.2516067\tbest: 0.2516067 (1070)\ttotal: 15m 6s\tremaining: 27m 20s\n",
            "1080:\tlearn: 0.2481325\ttest: 0.2516081\tbest: 0.2516044 (1077)\ttotal: 15m 14s\tremaining: 27m 12s\n",
            "1090:\tlearn: 0.2481089\ttest: 0.2516095\tbest: 0.2516044 (1077)\ttotal: 15m 23s\tremaining: 27m 4s\n",
            "1100:\tlearn: 0.2480918\ttest: 0.2516129\tbest: 0.2516044 (1077)\ttotal: 15m 31s\tremaining: 26m 55s\n",
            "1110:\tlearn: 0.2480741\ttest: 0.2516118\tbest: 0.2516044 (1077)\ttotal: 15m 40s\tremaining: 26m 46s\n",
            "1120:\tlearn: 0.2480503\ttest: 0.2516152\tbest: 0.2516044 (1077)\ttotal: 15m 48s\tremaining: 26m 38s\n",
            "1130:\tlearn: 0.2480292\ttest: 0.2516157\tbest: 0.2516044 (1077)\ttotal: 15m 57s\tremaining: 26m 30s\n",
            "1140:\tlearn: 0.2480090\ttest: 0.2516176\tbest: 0.2516044 (1077)\ttotal: 16m 5s\tremaining: 26m 21s\n",
            "1150:\tlearn: 0.2479857\ttest: 0.2516152\tbest: 0.2516044 (1077)\ttotal: 16m 15s\tremaining: 26m 15s\n",
            "1160:\tlearn: 0.2479651\ttest: 0.2516147\tbest: 0.2516044 (1077)\ttotal: 16m 23s\tremaining: 26m 6s\n",
            "1170:\tlearn: 0.2479484\ttest: 0.2516118\tbest: 0.2516044 (1077)\ttotal: 16m 32s\tremaining: 25m 57s\n",
            "1180:\tlearn: 0.2479270\ttest: 0.2516152\tbest: 0.2516044 (1077)\ttotal: 16m 40s\tremaining: 25m 49s\n",
            "1190:\tlearn: 0.2479084\ttest: 0.2516097\tbest: 0.2516044 (1077)\ttotal: 16m 48s\tremaining: 25m 40s\n",
            "1200:\tlearn: 0.2478828\ttest: 0.2516091\tbest: 0.2516044 (1077)\ttotal: 16m 57s\tremaining: 25m 32s\n",
            "1210:\tlearn: 0.2478618\ttest: 0.2516153\tbest: 0.2516044 (1077)\ttotal: 17m 6s\tremaining: 25m 24s\n",
            "1220:\tlearn: 0.2478430\ttest: 0.2516208\tbest: 0.2516044 (1077)\ttotal: 17m 14s\tremaining: 25m 15s\n",
            "1230:\tlearn: 0.2478260\ttest: 0.2516230\tbest: 0.2516044 (1077)\ttotal: 17m 22s\tremaining: 25m 7s\n",
            "1240:\tlearn: 0.2478093\ttest: 0.2516243\tbest: 0.2516044 (1077)\ttotal: 17m 31s\tremaining: 24m 58s\n",
            "1250:\tlearn: 0.2477920\ttest: 0.2516276\tbest: 0.2516044 (1077)\ttotal: 17m 39s\tremaining: 24m 49s\n",
            "1260:\tlearn: 0.2477663\ttest: 0.2516258\tbest: 0.2516044 (1077)\ttotal: 17m 48s\tremaining: 24m 41s\n",
            "1270:\tlearn: 0.2477479\ttest: 0.2516257\tbest: 0.2516044 (1077)\ttotal: 17m 56s\tremaining: 24m 32s\n",
            "Stopped by overfitting detector  (200 iterations wait)\n",
            "\n",
            "bestTest = 0.2516044002\n",
            "bestIteration = 1077\n",
            "\n",
            "Shrink model to first 1078 iterations.\n",
            "Fold 1 : 0.2516044001775643\n",
            "0:\tlearn: 0.5646173\ttest: 0.5644716\tbest: 0.5644716 (0)\ttotal: 803ms\tremaining: 40m 15s\n",
            "10:\tlearn: 0.2718185\ttest: 0.2711181\tbest: 0.2711181 (10)\ttotal: 9.27s\tremaining: 42m 7s\n",
            "20:\tlearn: 0.2563954\ttest: 0.2555505\tbest: 0.2555505 (20)\ttotal: 17.5s\tremaining: 41m 33s\n",
            "30:\tlearn: 0.2538601\ttest: 0.2529734\tbest: 0.2529734 (30)\ttotal: 25.8s\tremaining: 41m 18s\n",
            "40:\tlearn: 0.2531029\ttest: 0.2522216\tbest: 0.2522216 (40)\ttotal: 34.2s\tremaining: 41m 17s\n",
            "50:\tlearn: 0.2527263\ttest: 0.2518412\tbest: 0.2518412 (50)\ttotal: 42.6s\tremaining: 41m 13s\n",
            "60:\tlearn: 0.2524894\ttest: 0.2516222\tbest: 0.2516222 (60)\ttotal: 51.1s\tremaining: 41m 9s\n",
            "70:\tlearn: 0.2522859\ttest: 0.2514482\tbest: 0.2514482 (70)\ttotal: 59.6s\tremaining: 41m 5s\n",
            "80:\tlearn: 0.2521351\ttest: 0.2513159\tbest: 0.2513159 (80)\ttotal: 1m 8s\tremaining: 41m 1s\n",
            "90:\tlearn: 0.2520090\ttest: 0.2512209\tbest: 0.2512209 (90)\ttotal: 1m 16s\tremaining: 40m 52s\n",
            "100:\tlearn: 0.2518987\ttest: 0.2511362\tbest: 0.2511362 (100)\ttotal: 1m 24s\tremaining: 40m 47s\n",
            "110:\tlearn: 0.2518154\ttest: 0.2510770\tbest: 0.2510770 (110)\ttotal: 1m 33s\tremaining: 40m 36s\n",
            "120:\tlearn: 0.2517251\ttest: 0.2510137\tbest: 0.2510137 (120)\ttotal: 1m 41s\tremaining: 40m 28s\n",
            "130:\tlearn: 0.2516557\ttest: 0.2509665\tbest: 0.2509665 (130)\ttotal: 1m 50s\tremaining: 40m 18s\n",
            "140:\tlearn: 0.2515854\ttest: 0.2509201\tbest: 0.2509201 (140)\ttotal: 1m 58s\tremaining: 40m 9s\n",
            "150:\tlearn: 0.2515118\ttest: 0.2508735\tbest: 0.2508735 (150)\ttotal: 2m 6s\tremaining: 40m 1s\n",
            "160:\tlearn: 0.2514423\ttest: 0.2508361\tbest: 0.2508361 (160)\ttotal: 2m 15s\tremaining: 39m 50s\n",
            "170:\tlearn: 0.2513660\ttest: 0.2507913\tbest: 0.2507913 (170)\ttotal: 2m 23s\tremaining: 39m 42s\n",
            "180:\tlearn: 0.2513003\ttest: 0.2507551\tbest: 0.2507551 (180)\ttotal: 2m 31s\tremaining: 39m 32s\n",
            "190:\tlearn: 0.2512231\ttest: 0.2507124\tbest: 0.2507124 (190)\ttotal: 2m 40s\tremaining: 39m 23s\n",
            "200:\tlearn: 0.2511611\ttest: 0.2506786\tbest: 0.2506786 (200)\ttotal: 2m 48s\tremaining: 39m 11s\n",
            "210:\tlearn: 0.2510997\ttest: 0.2506477\tbest: 0.2506477 (210)\ttotal: 2m 56s\tremaining: 39m 4s\n",
            "220:\tlearn: 0.2510429\ttest: 0.2506133\tbest: 0.2506133 (220)\ttotal: 3m 5s\tremaining: 38m 56s\n",
            "230:\tlearn: 0.2509806\ttest: 0.2505913\tbest: 0.2505913 (230)\ttotal: 3m 13s\tremaining: 38m 49s\n",
            "240:\tlearn: 0.2509163\ttest: 0.2505497\tbest: 0.2505497 (240)\ttotal: 3m 22s\tremaining: 38m 42s\n",
            "250:\tlearn: 0.2508667\ttest: 0.2505264\tbest: 0.2505264 (250)\ttotal: 3m 30s\tremaining: 38m 36s\n",
            "260:\tlearn: 0.2508174\ttest: 0.2505081\tbest: 0.2505081 (260)\ttotal: 3m 39s\tremaining: 38m 27s\n",
            "270:\tlearn: 0.2507664\ttest: 0.2504826\tbest: 0.2504826 (270)\ttotal: 3m 47s\tremaining: 38m 18s\n",
            "280:\tlearn: 0.2507055\ttest: 0.2504522\tbest: 0.2504522 (280)\ttotal: 3m 55s\tremaining: 38m 9s\n",
            "290:\tlearn: 0.2506569\ttest: 0.2504386\tbest: 0.2504386 (290)\ttotal: 4m 4s\tremaining: 38m\n",
            "300:\tlearn: 0.2506179\ttest: 0.2504338\tbest: 0.2504326 (294)\ttotal: 4m 12s\tremaining: 37m 51s\n",
            "310:\tlearn: 0.2505755\ttest: 0.2504198\tbest: 0.2504198 (310)\ttotal: 4m 20s\tremaining: 37m 42s\n",
            "320:\tlearn: 0.2505426\ttest: 0.2504135\tbest: 0.2504135 (320)\ttotal: 4m 28s\tremaining: 37m 33s\n",
            "330:\tlearn: 0.2504977\ttest: 0.2504040\tbest: 0.2504040 (330)\ttotal: 4m 37s\tremaining: 37m 25s\n",
            "340:\tlearn: 0.2504566\ttest: 0.2503972\tbest: 0.2503969 (339)\ttotal: 4m 45s\tremaining: 37m 16s\n",
            "350:\tlearn: 0.2504141\ttest: 0.2503823\tbest: 0.2503823 (350)\ttotal: 4m 54s\tremaining: 37m 8s\n",
            "360:\tlearn: 0.2503811\ttest: 0.2503795\tbest: 0.2503795 (360)\ttotal: 5m 2s\tremaining: 37m\n",
            "370:\tlearn: 0.2503496\ttest: 0.2503717\tbest: 0.2503717 (370)\ttotal: 5m 11s\tremaining: 36m 52s\n",
            "380:\tlearn: 0.2503044\ttest: 0.2503634\tbest: 0.2503634 (380)\ttotal: 5m 19s\tremaining: 36m 44s\n",
            "390:\tlearn: 0.2502594\ttest: 0.2503486\tbest: 0.2503486 (390)\ttotal: 5m 27s\tremaining: 36m 35s\n",
            "400:\tlearn: 0.2502242\ttest: 0.2503469\tbest: 0.2503446 (393)\ttotal: 5m 36s\tremaining: 36m 27s\n",
            "410:\tlearn: 0.2501888\ttest: 0.2503418\tbest: 0.2503392 (409)\ttotal: 5m 44s\tremaining: 36m 19s\n",
            "420:\tlearn: 0.2501566\ttest: 0.2503404\tbest: 0.2503392 (409)\ttotal: 5m 53s\tremaining: 36m 11s\n",
            "430:\tlearn: 0.2501311\ttest: 0.2503346\tbest: 0.2503346 (430)\ttotal: 6m 1s\tremaining: 36m 1s\n",
            "440:\tlearn: 0.2500964\ttest: 0.2503304\tbest: 0.2503304 (437)\ttotal: 6m 9s\tremaining: 35m 52s\n",
            "450:\tlearn: 0.2500596\ttest: 0.2503261\tbest: 0.2503261 (450)\ttotal: 6m 17s\tremaining: 35m 44s\n",
            "460:\tlearn: 0.2500244\ttest: 0.2503247\tbest: 0.2503233 (456)\ttotal: 6m 26s\tremaining: 35m 36s\n",
            "470:\tlearn: 0.2499927\ttest: 0.2503171\tbest: 0.2503171 (470)\ttotal: 6m 34s\tremaining: 35m 28s\n",
            "480:\tlearn: 0.2499617\ttest: 0.2503201\tbest: 0.2503171 (470)\ttotal: 6m 43s\tremaining: 35m 20s\n",
            "490:\tlearn: 0.2499251\ttest: 0.2503074\tbest: 0.2503074 (490)\ttotal: 6m 51s\tremaining: 35m 11s\n",
            "500:\tlearn: 0.2498857\ttest: 0.2502944\tbest: 0.2502939 (499)\ttotal: 6m 59s\tremaining: 35m 3s\n",
            "510:\tlearn: 0.2498548\ttest: 0.2502897\tbest: 0.2502894 (506)\ttotal: 7m 8s\tremaining: 34m 53s\n",
            "520:\tlearn: 0.2498206\ttest: 0.2502859\tbest: 0.2502851 (518)\ttotal: 7m 16s\tremaining: 34m 45s\n",
            "530:\tlearn: 0.2497905\ttest: 0.2502825\tbest: 0.2502815 (525)\ttotal: 7m 24s\tremaining: 34m 36s\n",
            "540:\tlearn: 0.2497544\ttest: 0.2502827\tbest: 0.2502815 (525)\ttotal: 7m 33s\tremaining: 34m 27s\n",
            "550:\tlearn: 0.2497225\ttest: 0.2502776\tbest: 0.2502775 (549)\ttotal: 7m 41s\tremaining: 34m 19s\n",
            "560:\tlearn: 0.2496933\ttest: 0.2502783\tbest: 0.2502775 (549)\ttotal: 7m 49s\tremaining: 34m 10s\n",
            "570:\tlearn: 0.2496698\ttest: 0.2502765\tbest: 0.2502751 (565)\ttotal: 7m 57s\tremaining: 34m\n",
            "580:\tlearn: 0.2496403\ttest: 0.2502718\tbest: 0.2502718 (580)\ttotal: 8m 5s\tremaining: 33m 51s\n",
            "590:\tlearn: 0.2496158\ttest: 0.2502640\tbest: 0.2502640 (590)\ttotal: 8m 15s\tremaining: 33m 47s\n",
            "600:\tlearn: 0.2495849\ttest: 0.2502654\tbest: 0.2502639 (599)\ttotal: 8m 23s\tremaining: 33m 39s\n",
            "610:\tlearn: 0.2495511\ttest: 0.2502654\tbest: 0.2502638 (607)\ttotal: 8m 32s\tremaining: 33m 31s\n",
            "620:\tlearn: 0.2495271\ttest: 0.2502702\tbest: 0.2502638 (607)\ttotal: 8m 40s\tremaining: 33m 21s\n",
            "630:\tlearn: 0.2494975\ttest: 0.2502646\tbest: 0.2502638 (607)\ttotal: 8m 48s\tremaining: 33m 13s\n",
            "640:\tlearn: 0.2494681\ttest: 0.2502591\tbest: 0.2502591 (640)\ttotal: 8m 56s\tremaining: 33m 4s\n",
            "650:\tlearn: 0.2494427\ttest: 0.2502518\tbest: 0.2502515 (648)\ttotal: 9m 5s\tremaining: 32m 55s\n",
            "660:\tlearn: 0.2494126\ttest: 0.2502488\tbest: 0.2502485 (659)\ttotal: 9m 13s\tremaining: 32m 47s\n",
            "670:\tlearn: 0.2493835\ttest: 0.2502469\tbest: 0.2502461 (668)\ttotal: 9m 21s\tremaining: 32m 38s\n",
            "680:\tlearn: 0.2493583\ttest: 0.2502435\tbest: 0.2502435 (680)\ttotal: 9m 30s\tremaining: 32m 30s\n",
            "690:\tlearn: 0.2493316\ttest: 0.2502418\tbest: 0.2502407 (685)\ttotal: 9m 38s\tremaining: 32m 21s\n",
            "700:\tlearn: 0.2493011\ttest: 0.2502369\tbest: 0.2502369 (700)\ttotal: 9m 46s\tremaining: 32m 12s\n",
            "710:\tlearn: 0.2492732\ttest: 0.2502351\tbest: 0.2502346 (705)\ttotal: 9m 54s\tremaining: 32m 3s\n",
            "720:\tlearn: 0.2492467\ttest: 0.2502361\tbest: 0.2502346 (705)\ttotal: 10m 3s\tremaining: 31m 54s\n",
            "730:\tlearn: 0.2492193\ttest: 0.2502418\tbest: 0.2502346 (705)\ttotal: 10m 11s\tremaining: 31m 45s\n",
            "740:\tlearn: 0.2491854\ttest: 0.2502406\tbest: 0.2502346 (705)\ttotal: 10m 19s\tremaining: 31m 37s\n",
            "750:\tlearn: 0.2491647\ttest: 0.2502407\tbest: 0.2502346 (705)\ttotal: 10m 28s\tremaining: 31m 29s\n",
            "760:\tlearn: 0.2491391\ttest: 0.2502417\tbest: 0.2502346 (705)\ttotal: 10m 36s\tremaining: 31m 20s\n",
            "770:\tlearn: 0.2491147\ttest: 0.2502432\tbest: 0.2502346 (705)\ttotal: 10m 44s\tremaining: 31m 11s\n",
            "780:\tlearn: 0.2490901\ttest: 0.2502417\tbest: 0.2502346 (705)\ttotal: 10m 52s\tremaining: 31m 2s\n",
            "790:\tlearn: 0.2490700\ttest: 0.2502405\tbest: 0.2502346 (705)\ttotal: 11m\tremaining: 30m 53s\n",
            "800:\tlearn: 0.2490455\ttest: 0.2502429\tbest: 0.2502346 (705)\ttotal: 11m 9s\tremaining: 30m 45s\n",
            "810:\tlearn: 0.2490221\ttest: 0.2502413\tbest: 0.2502346 (705)\ttotal: 11m 17s\tremaining: 30m 36s\n",
            "820:\tlearn: 0.2489972\ttest: 0.2502430\tbest: 0.2502346 (705)\ttotal: 11m 25s\tremaining: 30m 28s\n",
            "830:\tlearn: 0.2489730\ttest: 0.2502428\tbest: 0.2502346 (705)\ttotal: 11m 34s\tremaining: 30m 20s\n",
            "840:\tlearn: 0.2489435\ttest: 0.2502427\tbest: 0.2502346 (705)\ttotal: 11m 42s\tremaining: 30m 11s\n",
            "850:\tlearn: 0.2489226\ttest: 0.2502439\tbest: 0.2502346 (705)\ttotal: 11m 50s\tremaining: 30m 2s\n",
            "860:\tlearn: 0.2488986\ttest: 0.2502412\tbest: 0.2502346 (705)\ttotal: 11m 58s\tremaining: 29m 54s\n",
            "870:\tlearn: 0.2488745\ttest: 0.2502388\tbest: 0.2502346 (705)\ttotal: 12m 7s\tremaining: 29m 46s\n",
            "880:\tlearn: 0.2488524\ttest: 0.2502424\tbest: 0.2502346 (705)\ttotal: 12m 15s\tremaining: 29m 37s\n",
            "890:\tlearn: 0.2488280\ttest: 0.2502461\tbest: 0.2502346 (705)\ttotal: 12m 24s\tremaining: 29m 29s\n",
            "900:\tlearn: 0.2488032\ttest: 0.2502439\tbest: 0.2502346 (705)\ttotal: 12m 32s\tremaining: 29m 21s\n",
            "Stopped by overfitting detector  (200 iterations wait)\n",
            "\n",
            "bestTest = 0.2502345868\n",
            "bestIteration = 705\n",
            "\n",
            "Shrink model to first 706 iterations.\n",
            "Fold 2 : 0.25023458675380966\n",
            "0:\tlearn: 0.5607063\ttest: 0.5607999\tbest: 0.5607999 (0)\ttotal: 793ms\tremaining: 39m 47s\n",
            "10:\tlearn: 0.2716759\ttest: 0.2721072\tbest: 0.2721072 (10)\ttotal: 9.29s\tremaining: 42m 12s\n",
            "20:\tlearn: 0.2561851\ttest: 0.2567124\tbest: 0.2567124 (20)\ttotal: 17.5s\tremaining: 41m 36s\n",
            "30:\tlearn: 0.2535483\ttest: 0.2541333\tbest: 0.2541333 (30)\ttotal: 25.6s\tremaining: 41m 1s\n",
            "40:\tlearn: 0.2528433\ttest: 0.2534895\tbest: 0.2534895 (40)\ttotal: 34s\tremaining: 41m 3s\n",
            "50:\tlearn: 0.2524104\ttest: 0.2530944\tbest: 0.2530944 (50)\ttotal: 42.4s\tremaining: 40m 57s\n",
            "60:\tlearn: 0.2521556\ttest: 0.2528823\tbest: 0.2528823 (60)\ttotal: 50.7s\tremaining: 40m 52s\n",
            "70:\tlearn: 0.2519501\ttest: 0.2527149\tbest: 0.2527149 (70)\ttotal: 59.3s\tremaining: 40m 53s\n",
            "80:\tlearn: 0.2517891\ttest: 0.2525921\tbest: 0.2525921 (80)\ttotal: 1m 7s\tremaining: 40m 49s\n",
            "90:\tlearn: 0.2516726\ttest: 0.2525036\tbest: 0.2525036 (90)\ttotal: 1m 16s\tremaining: 40m 48s\n",
            "100:\tlearn: 0.2515640\ttest: 0.2524278\tbest: 0.2524278 (100)\ttotal: 1m 24s\tremaining: 40m 41s\n",
            "110:\tlearn: 0.2514756\ttest: 0.2523711\tbest: 0.2523711 (110)\ttotal: 1m 33s\tremaining: 40m 30s\n",
            "120:\tlearn: 0.2513887\ttest: 0.2523086\tbest: 0.2523086 (120)\ttotal: 1m 41s\tremaining: 40m 24s\n",
            "130:\tlearn: 0.2513135\ttest: 0.2522654\tbest: 0.2522654 (130)\ttotal: 1m 50s\tremaining: 40m 18s\n",
            "140:\tlearn: 0.2512477\ttest: 0.2522272\tbest: 0.2522272 (140)\ttotal: 1m 58s\tremaining: 40m 20s\n",
            "150:\tlearn: 0.2511809\ttest: 0.2521809\tbest: 0.2521809 (150)\ttotal: 2m 7s\tremaining: 40m 18s\n",
            "160:\tlearn: 0.2511172\ttest: 0.2521454\tbest: 0.2521454 (160)\ttotal: 2m 16s\tremaining: 40m 6s\n",
            "170:\tlearn: 0.2510450\ttest: 0.2520961\tbest: 0.2520961 (170)\ttotal: 2m 24s\tremaining: 39m 54s\n",
            "180:\tlearn: 0.2509857\ttest: 0.2520582\tbest: 0.2520582 (180)\ttotal: 2m 32s\tremaining: 39m 44s\n",
            "190:\tlearn: 0.2509198\ttest: 0.2520173\tbest: 0.2520173 (190)\ttotal: 2m 40s\tremaining: 39m 35s\n",
            "200:\tlearn: 0.2508528\ttest: 0.2519901\tbest: 0.2519901 (200)\ttotal: 2m 49s\tremaining: 39m 25s\n",
            "210:\tlearn: 0.2507930\ttest: 0.2519600\tbest: 0.2519600 (210)\ttotal: 2m 57s\tremaining: 39m 18s\n",
            "220:\tlearn: 0.2507362\ttest: 0.2519294\tbest: 0.2519294 (220)\ttotal: 3m 6s\tremaining: 39m 10s\n",
            "230:\tlearn: 0.2506822\ttest: 0.2519051\tbest: 0.2519051 (230)\ttotal: 3m 14s\tremaining: 38m 59s\n",
            "240:\tlearn: 0.2506346\ttest: 0.2518852\tbest: 0.2518852 (240)\ttotal: 3m 22s\tremaining: 38m 49s\n",
            "250:\tlearn: 0.2505787\ttest: 0.2518610\tbest: 0.2518610 (250)\ttotal: 3m 31s\tremaining: 38m 41s\n",
            "260:\tlearn: 0.2505240\ttest: 0.2518367\tbest: 0.2518367 (260)\ttotal: 3m 39s\tremaining: 38m 33s\n",
            "270:\tlearn: 0.2504780\ttest: 0.2518249\tbest: 0.2518249 (270)\ttotal: 3m 47s\tremaining: 38m 23s\n",
            "280:\tlearn: 0.2504151\ttest: 0.2517897\tbest: 0.2517895 (279)\ttotal: 3m 56s\tremaining: 38m 14s\n",
            "290:\tlearn: 0.2503607\ttest: 0.2517623\tbest: 0.2517617 (289)\ttotal: 4m 4s\tremaining: 38m 5s\n",
            "300:\tlearn: 0.2503133\ttest: 0.2517487\tbest: 0.2517487 (300)\ttotal: 4m 13s\tremaining: 37m 57s\n",
            "310:\tlearn: 0.2502738\ttest: 0.2517263\tbest: 0.2517261 (309)\ttotal: 4m 21s\tremaining: 37m 48s\n",
            "320:\tlearn: 0.2502333\ttest: 0.2517126\tbest: 0.2517126 (320)\ttotal: 4m 29s\tremaining: 37m 41s\n",
            "330:\tlearn: 0.2501943\ttest: 0.2516993\tbest: 0.2516993 (330)\ttotal: 4m 38s\tremaining: 37m 33s\n",
            "340:\tlearn: 0.2501495\ttest: 0.2516872\tbest: 0.2516872 (340)\ttotal: 4m 46s\tremaining: 37m 25s\n",
            "350:\tlearn: 0.2501088\ttest: 0.2516821\tbest: 0.2516821 (350)\ttotal: 4m 55s\tremaining: 37m 16s\n",
            "360:\tlearn: 0.2500647\ttest: 0.2516689\tbest: 0.2516689 (360)\ttotal: 5m 3s\tremaining: 37m 8s\n",
            "370:\tlearn: 0.2500244\ttest: 0.2516621\tbest: 0.2516621 (370)\ttotal: 5m 12s\tremaining: 37m\n",
            "380:\tlearn: 0.2499867\ttest: 0.2516516\tbest: 0.2516515 (379)\ttotal: 5m 20s\tremaining: 36m 51s\n",
            "390:\tlearn: 0.2499503\ttest: 0.2516395\tbest: 0.2516395 (390)\ttotal: 5m 28s\tremaining: 36m 43s\n",
            "400:\tlearn: 0.2499120\ttest: 0.2516284\tbest: 0.2516284 (400)\ttotal: 5m 38s\tremaining: 36m 40s\n",
            "410:\tlearn: 0.2498801\ttest: 0.2516213\tbest: 0.2516209 (409)\ttotal: 5m 46s\tremaining: 36m 32s\n",
            "420:\tlearn: 0.2498479\ttest: 0.2516120\tbest: 0.2516120 (420)\ttotal: 5m 55s\tremaining: 36m 24s\n",
            "430:\tlearn: 0.2498149\ttest: 0.2516049\tbest: 0.2516049 (430)\ttotal: 6m 3s\tremaining: 36m 15s\n",
            "440:\tlearn: 0.2497798\ttest: 0.2515943\tbest: 0.2515943 (440)\ttotal: 6m 12s\tremaining: 36m 8s\n",
            "450:\tlearn: 0.2497434\ttest: 0.2515882\tbest: 0.2515882 (450)\ttotal: 6m 20s\tremaining: 35m 59s\n",
            "460:\tlearn: 0.2497067\ttest: 0.2515847\tbest: 0.2515841 (459)\ttotal: 6m 29s\tremaining: 35m 51s\n",
            "470:\tlearn: 0.2496840\ttest: 0.2515805\tbest: 0.2515805 (470)\ttotal: 6m 37s\tremaining: 35m 41s\n",
            "480:\tlearn: 0.2496489\ttest: 0.2515691\tbest: 0.2515691 (480)\ttotal: 6m 45s\tremaining: 35m 33s\n",
            "490:\tlearn: 0.2496137\ttest: 0.2515672\tbest: 0.2515672 (490)\ttotal: 6m 54s\tremaining: 35m 25s\n",
            "500:\tlearn: 0.2495770\ttest: 0.2515612\tbest: 0.2515612 (500)\ttotal: 7m 2s\tremaining: 35m 18s\n",
            "510:\tlearn: 0.2495537\ttest: 0.2515613\tbest: 0.2515603 (503)\ttotal: 7m 11s\tremaining: 35m 9s\n",
            "520:\tlearn: 0.2495240\ttest: 0.2515543\tbest: 0.2515543 (520)\ttotal: 7m 19s\tremaining: 35m\n",
            "530:\tlearn: 0.2494933\ttest: 0.2515488\tbest: 0.2515488 (530)\ttotal: 7m 28s\tremaining: 34m 52s\n",
            "540:\tlearn: 0.2494699\ttest: 0.2515443\tbest: 0.2515443 (540)\ttotal: 7m 36s\tremaining: 34m 43s\n",
            "550:\tlearn: 0.2494378\ttest: 0.2515388\tbest: 0.2515388 (550)\ttotal: 7m 45s\tremaining: 34m 35s\n",
            "560:\tlearn: 0.2494093\ttest: 0.2515351\tbest: 0.2515351 (560)\ttotal: 7m 54s\tremaining: 34m 31s\n",
            "570:\tlearn: 0.2493806\ttest: 0.2515284\tbest: 0.2515284 (570)\ttotal: 8m 3s\tremaining: 34m 25s\n",
            "580:\tlearn: 0.2493479\ttest: 0.2515219\tbest: 0.2515216 (579)\ttotal: 8m 11s\tremaining: 34m 16s\n",
            "590:\tlearn: 0.2493271\ttest: 0.2515211\tbest: 0.2515205 (587)\ttotal: 8m 20s\tremaining: 34m 7s\n",
            "600:\tlearn: 0.2492959\ttest: 0.2515164\tbest: 0.2515164 (600)\ttotal: 8m 28s\tremaining: 33m 58s\n",
            "610:\tlearn: 0.2492673\ttest: 0.2515160\tbest: 0.2515153 (609)\ttotal: 8m 36s\tremaining: 33m 49s\n",
            "620:\tlearn: 0.2492343\ttest: 0.2515182\tbest: 0.2515145 (616)\ttotal: 8m 45s\tremaining: 33m 41s\n",
            "630:\tlearn: 0.2492095\ttest: 0.2515217\tbest: 0.2515145 (616)\ttotal: 8m 53s\tremaining: 33m 31s\n",
            "640:\tlearn: 0.2491789\ttest: 0.2515186\tbest: 0.2515145 (616)\ttotal: 9m 1s\tremaining: 33m 22s\n",
            "650:\tlearn: 0.2491549\ttest: 0.2515170\tbest: 0.2515145 (616)\ttotal: 9m 10s\tremaining: 33m 14s\n",
            "660:\tlearn: 0.2491310\ttest: 0.2515172\tbest: 0.2515145 (616)\ttotal: 9m 18s\tremaining: 33m 5s\n",
            "670:\tlearn: 0.2490985\ttest: 0.2515166\tbest: 0.2515145 (616)\ttotal: 9m 27s\tremaining: 32m 57s\n",
            "680:\tlearn: 0.2490762\ttest: 0.2515153\tbest: 0.2515145 (616)\ttotal: 9m 35s\tremaining: 32m 48s\n",
            "690:\tlearn: 0.2490515\ttest: 0.2515146\tbest: 0.2515133 (686)\ttotal: 9m 43s\tremaining: 32m 39s\n",
            "700:\tlearn: 0.2490188\ttest: 0.2515137\tbest: 0.2515112 (697)\ttotal: 9m 52s\tremaining: 32m 31s\n",
            "710:\tlearn: 0.2489903\ttest: 0.2515135\tbest: 0.2515112 (697)\ttotal: 10m\tremaining: 32m 22s\n",
            "720:\tlearn: 0.2489658\ttest: 0.2515124\tbest: 0.2515112 (697)\ttotal: 10m 9s\tremaining: 32m 13s\n",
            "730:\tlearn: 0.2489422\ttest: 0.2515076\tbest: 0.2515072 (728)\ttotal: 10m 17s\tremaining: 32m 4s\n",
            "740:\tlearn: 0.2489099\ttest: 0.2515083\tbest: 0.2515049 (733)\ttotal: 10m 25s\tremaining: 31m 56s\n",
            "750:\tlearn: 0.2488866\ttest: 0.2515093\tbest: 0.2515049 (733)\ttotal: 10m 34s\tremaining: 31m 47s\n",
            "760:\tlearn: 0.2488640\ttest: 0.2515078\tbest: 0.2515049 (733)\ttotal: 10m 42s\tremaining: 31m 39s\n",
            "770:\tlearn: 0.2488413\ttest: 0.2515081\tbest: 0.2515049 (733)\ttotal: 10m 51s\tremaining: 31m 30s\n",
            "780:\tlearn: 0.2488124\ttest: 0.2515068\tbest: 0.2515049 (733)\ttotal: 10m 59s\tremaining: 31m 23s\n",
            "790:\tlearn: 0.2487836\ttest: 0.2515025\tbest: 0.2515025 (790)\ttotal: 11m 8s\tremaining: 31m 15s\n",
            "800:\tlearn: 0.2487549\ttest: 0.2515009\tbest: 0.2515008 (799)\ttotal: 11m 16s\tremaining: 31m 6s\n",
            "810:\tlearn: 0.2487236\ttest: 0.2515056\tbest: 0.2515008 (799)\ttotal: 11m 25s\tremaining: 30m 59s\n",
            "820:\tlearn: 0.2487020\ttest: 0.2515022\tbest: 0.2515008 (799)\ttotal: 11m 34s\tremaining: 30m 50s\n",
            "830:\tlearn: 0.2486812\ttest: 0.2515019\tbest: 0.2515000 (828)\ttotal: 11m 42s\tremaining: 30m 42s\n",
            "840:\tlearn: 0.2486565\ttest: 0.2515019\tbest: 0.2515000 (828)\ttotal: 11m 51s\tremaining: 30m 34s\n",
            "850:\tlearn: 0.2486323\ttest: 0.2514969\tbest: 0.2514969 (850)\ttotal: 11m 59s\tremaining: 30m 26s\n",
            "860:\tlearn: 0.2486036\ttest: 0.2515018\tbest: 0.2514969 (850)\ttotal: 12m 8s\tremaining: 30m 18s\n",
            "870:\tlearn: 0.2485768\ttest: 0.2515032\tbest: 0.2514969 (850)\ttotal: 12m 17s\tremaining: 30m 10s\n",
            "880:\tlearn: 0.2485529\ttest: 0.2515035\tbest: 0.2514969 (850)\ttotal: 12m 25s\tremaining: 30m 1s\n",
            "890:\tlearn: 0.2485237\ttest: 0.2515037\tbest: 0.2514969 (850)\ttotal: 12m 34s\tremaining: 29m 53s\n",
            "900:\tlearn: 0.2485011\ttest: 0.2515040\tbest: 0.2514969 (850)\ttotal: 12m 42s\tremaining: 29m 45s\n",
            "910:\tlearn: 0.2484805\ttest: 0.2515052\tbest: 0.2514969 (850)\ttotal: 12m 51s\tremaining: 29m 36s\n",
            "920:\tlearn: 0.2484631\ttest: 0.2515056\tbest: 0.2514969 (850)\ttotal: 12m 59s\tremaining: 29m 27s\n",
            "930:\tlearn: 0.2484397\ttest: 0.2515079\tbest: 0.2514969 (850)\ttotal: 13m 7s\tremaining: 29m 19s\n",
            "940:\tlearn: 0.2484168\ttest: 0.2515093\tbest: 0.2514969 (850)\ttotal: 13m 16s\tremaining: 29m 10s\n",
            "950:\tlearn: 0.2483998\ttest: 0.2515091\tbest: 0.2514969 (850)\ttotal: 13m 24s\tremaining: 29m 1s\n",
            "960:\tlearn: 0.2483758\ttest: 0.2515090\tbest: 0.2514969 (850)\ttotal: 13m 33s\tremaining: 28m 53s\n",
            "970:\tlearn: 0.2483482\ttest: 0.2515088\tbest: 0.2514969 (850)\ttotal: 13m 41s\tremaining: 28m 45s\n",
            "980:\tlearn: 0.2483288\ttest: 0.2515096\tbest: 0.2514969 (850)\ttotal: 13m 50s\tremaining: 28m 36s\n",
            "990:\tlearn: 0.2482994\ttest: 0.2515107\tbest: 0.2514969 (850)\ttotal: 13m 58s\tremaining: 28m 28s\n",
            "1000:\tlearn: 0.2482738\ttest: 0.2515097\tbest: 0.2514969 (850)\ttotal: 14m 6s\tremaining: 28m 19s\n",
            "1010:\tlearn: 0.2482516\ttest: 0.2515127\tbest: 0.2514969 (850)\ttotal: 14m 15s\tremaining: 28m 11s\n",
            "1020:\tlearn: 0.2482260\ttest: 0.2515121\tbest: 0.2514969 (850)\ttotal: 14m 23s\tremaining: 28m 2s\n",
            "1030:\tlearn: 0.2482054\ttest: 0.2515106\tbest: 0.2514969 (850)\ttotal: 14m 32s\tremaining: 27m 54s\n",
            "1040:\tlearn: 0.2481820\ttest: 0.2515089\tbest: 0.2514969 (850)\ttotal: 14m 41s\tremaining: 27m 46s\n",
            "1050:\tlearn: 0.2481583\ttest: 0.2515084\tbest: 0.2514969 (850)\ttotal: 14m 50s\tremaining: 27m 39s\n",
            "Stopped by overfitting detector  (200 iterations wait)\n",
            "\n",
            "bestTest = 0.2514969164\n",
            "bestIteration = 850\n",
            "\n",
            "Shrink model to first 851 iterations.\n",
            "Fold 3 : 0.2514969164395002\n",
            "0:\tlearn: 0.5603592\ttest: 0.5603178\tbest: 0.5603178 (0)\ttotal: 847ms\tremaining: 42m 28s\n",
            "10:\tlearn: 0.2714592\ttest: 0.2711787\tbest: 0.2711787 (10)\ttotal: 9.97s\tremaining: 45m 19s\n",
            "20:\tlearn: 0.2561879\ttest: 0.2558636\tbest: 0.2558636 (20)\ttotal: 18.8s\tremaining: 44m 41s\n",
            "30:\tlearn: 0.2537606\ttest: 0.2534256\tbest: 0.2534256 (30)\ttotal: 27.6s\tremaining: 44m 8s\n",
            "40:\tlearn: 0.2530586\ttest: 0.2527355\tbest: 0.2527355 (40)\ttotal: 36.3s\tremaining: 43m 45s\n",
            "50:\tlearn: 0.2525984\ttest: 0.2522965\tbest: 0.2522965 (50)\ttotal: 44.8s\tremaining: 43m 20s\n",
            "60:\tlearn: 0.2523247\ttest: 0.2520550\tbest: 0.2520550 (60)\ttotal: 54.5s\tremaining: 43m 53s\n",
            "70:\tlearn: 0.2521366\ttest: 0.2518826\tbest: 0.2518826 (70)\ttotal: 1m 3s\tremaining: 43m 35s\n",
            "80:\tlearn: 0.2519786\ttest: 0.2517518\tbest: 0.2517518 (80)\ttotal: 1m 11s\tremaining: 43m 17s\n",
            "90:\tlearn: 0.2518724\ttest: 0.2516613\tbest: 0.2516613 (90)\ttotal: 1m 20s\tremaining: 43m 6s\n",
            "100:\tlearn: 0.2517682\ttest: 0.2515742\tbest: 0.2515742 (100)\ttotal: 1m 29s\tremaining: 42m 56s\n",
            "110:\tlearn: 0.2516796\ttest: 0.2515024\tbest: 0.2515024 (110)\ttotal: 1m 38s\tremaining: 42m 45s\n",
            "120:\tlearn: 0.2515868\ttest: 0.2514352\tbest: 0.2514352 (120)\ttotal: 1m 46s\tremaining: 42m 33s\n",
            "130:\tlearn: 0.2515182\ttest: 0.2513910\tbest: 0.2513910 (130)\ttotal: 1m 55s\tremaining: 42m 28s\n",
            "140:\tlearn: 0.2514296\ttest: 0.2513339\tbest: 0.2513339 (140)\ttotal: 2m 4s\tremaining: 42m 16s\n",
            "150:\tlearn: 0.2513603\ttest: 0.2512824\tbest: 0.2512824 (150)\ttotal: 2m 13s\tremaining: 42m 3s\n",
            "160:\tlearn: 0.2512944\ttest: 0.2512449\tbest: 0.2512449 (160)\ttotal: 2m 21s\tremaining: 41m 50s\n",
            "170:\tlearn: 0.2512194\ttest: 0.2512053\tbest: 0.2512053 (170)\ttotal: 2m 30s\tremaining: 41m 38s\n",
            "180:\tlearn: 0.2511577\ttest: 0.2511699\tbest: 0.2511699 (180)\ttotal: 2m 39s\tremaining: 41m 25s\n",
            "190:\tlearn: 0.2510896\ttest: 0.2511355\tbest: 0.2511355 (190)\ttotal: 2m 47s\tremaining: 41m 12s\n",
            "200:\tlearn: 0.2510315\ttest: 0.2511105\tbest: 0.2511105 (200)\ttotal: 2m 55s\tremaining: 40m 59s\n",
            "210:\tlearn: 0.2509684\ttest: 0.2510774\tbest: 0.2510774 (210)\ttotal: 3m 4s\tremaining: 40m 45s\n",
            "220:\tlearn: 0.2509179\ttest: 0.2510567\tbest: 0.2510567 (220)\ttotal: 3m 12s\tremaining: 40m 33s\n",
            "230:\tlearn: 0.2508622\ttest: 0.2510280\tbest: 0.2510274 (229)\ttotal: 3m 21s\tremaining: 40m 22s\n",
            "240:\tlearn: 0.2508079\ttest: 0.2510029\tbest: 0.2510029 (240)\ttotal: 3m 29s\tremaining: 40m 12s\n",
            "250:\tlearn: 0.2507515\ttest: 0.2509783\tbest: 0.2509783 (250)\ttotal: 3m 38s\tremaining: 40m 1s\n",
            "260:\tlearn: 0.2507015\ttest: 0.2509561\tbest: 0.2509561 (260)\ttotal: 3m 46s\tremaining: 39m 48s\n",
            "270:\tlearn: 0.2506561\ttest: 0.2509365\tbest: 0.2509365 (270)\ttotal: 3m 55s\tremaining: 39m 37s\n",
            "280:\tlearn: 0.2506118\ttest: 0.2509184\tbest: 0.2509184 (280)\ttotal: 4m 3s\tremaining: 39m 24s\n",
            "290:\tlearn: 0.2505674\ttest: 0.2509038\tbest: 0.2509038 (290)\ttotal: 4m 11s\tremaining: 39m 10s\n",
            "300:\tlearn: 0.2505237\ttest: 0.2508945\tbest: 0.2508945 (300)\ttotal: 4m 19s\tremaining: 38m 57s\n",
            "310:\tlearn: 0.2504908\ttest: 0.2508882\tbest: 0.2508882 (310)\ttotal: 4m 27s\tremaining: 38m 45s\n",
            "320:\tlearn: 0.2504346\ttest: 0.2508642\tbest: 0.2508635 (319)\ttotal: 4m 36s\tremaining: 38m 35s\n",
            "330:\tlearn: 0.2503993\ttest: 0.2508528\tbest: 0.2508528 (330)\ttotal: 4m 44s\tremaining: 38m 23s\n",
            "340:\tlearn: 0.2503552\ttest: 0.2508410\tbest: 0.2508410 (340)\ttotal: 4m 52s\tremaining: 38m 12s\n",
            "350:\tlearn: 0.2503203\ttest: 0.2508352\tbest: 0.2508346 (347)\ttotal: 5m 1s\tremaining: 38m 1s\n",
            "360:\tlearn: 0.2502807\ttest: 0.2508300\tbest: 0.2508286 (355)\ttotal: 5m 9s\tremaining: 37m 50s\n",
            "370:\tlearn: 0.2502450\ttest: 0.2508263\tbest: 0.2508254 (369)\ttotal: 5m 17s\tremaining: 37m 40s\n",
            "380:\tlearn: 0.2502096\ttest: 0.2508214\tbest: 0.2508214 (380)\ttotal: 5m 26s\tremaining: 37m 31s\n",
            "390:\tlearn: 0.2501724\ttest: 0.2508109\tbest: 0.2508109 (390)\ttotal: 5m 34s\tremaining: 37m 21s\n",
            "400:\tlearn: 0.2501299\ttest: 0.2507930\tbest: 0.2507930 (400)\ttotal: 5m 43s\tremaining: 37m 13s\n",
            "410:\tlearn: 0.2500902\ttest: 0.2507848\tbest: 0.2507848 (410)\ttotal: 5m 51s\tremaining: 37m 3s\n",
            "420:\tlearn: 0.2500539\ttest: 0.2507748\tbest: 0.2507748 (420)\ttotal: 5m 59s\tremaining: 36m 53s\n",
            "430:\tlearn: 0.2500248\ttest: 0.2507761\tbest: 0.2507731 (421)\ttotal: 6m 8s\tremaining: 36m 43s\n",
            "440:\tlearn: 0.2499892\ttest: 0.2507718\tbest: 0.2507718 (440)\ttotal: 6m 16s\tremaining: 36m 34s\n",
            "450:\tlearn: 0.2499557\ttest: 0.2507649\tbest: 0.2507649 (450)\ttotal: 6m 25s\tremaining: 36m 24s\n",
            "460:\tlearn: 0.2499208\ttest: 0.2507600\tbest: 0.2507600 (460)\ttotal: 6m 33s\tremaining: 36m 14s\n",
            "470:\tlearn: 0.2498914\ttest: 0.2507584\tbest: 0.2507562 (468)\ttotal: 6m 41s\tremaining: 36m 6s\n",
            "480:\tlearn: 0.2498614\ttest: 0.2507571\tbest: 0.2507562 (468)\ttotal: 6m 50s\tremaining: 35m 57s\n",
            "490:\tlearn: 0.2498288\ttest: 0.2507515\tbest: 0.2507496 (486)\ttotal: 6m 58s\tremaining: 35m 48s\n",
            "500:\tlearn: 0.2498002\ttest: 0.2507489\tbest: 0.2507481 (497)\ttotal: 7m 7s\tremaining: 35m 40s\n",
            "510:\tlearn: 0.2497668\ttest: 0.2507456\tbest: 0.2507456 (510)\ttotal: 7m 15s\tremaining: 35m 31s\n",
            "520:\tlearn: 0.2497395\ttest: 0.2507447\tbest: 0.2507436 (517)\ttotal: 7m 24s\tremaining: 35m 22s\n",
            "530:\tlearn: 0.2497077\ttest: 0.2507420\tbest: 0.2507420 (530)\ttotal: 7m 32s\tremaining: 35m 13s\n",
            "540:\tlearn: 0.2496817\ttest: 0.2507422\tbest: 0.2507413 (532)\ttotal: 7m 41s\tremaining: 35m 4s\n",
            "550:\tlearn: 0.2496504\ttest: 0.2507398\tbest: 0.2507398 (550)\ttotal: 7m 49s\tremaining: 34m 55s\n",
            "560:\tlearn: 0.2496232\ttest: 0.2507377\tbest: 0.2507367 (554)\ttotal: 7m 57s\tremaining: 34m 46s\n",
            "570:\tlearn: 0.2495957\ttest: 0.2507373\tbest: 0.2507367 (554)\ttotal: 8m 6s\tremaining: 34m 37s\n",
            "580:\tlearn: 0.2495689\ttest: 0.2507335\tbest: 0.2507332 (579)\ttotal: 8m 14s\tremaining: 34m 29s\n",
            "590:\tlearn: 0.2495409\ttest: 0.2507343\tbest: 0.2507310 (587)\ttotal: 8m 23s\tremaining: 34m 20s\n",
            "600:\tlearn: 0.2495108\ttest: 0.2507324\tbest: 0.2507310 (587)\ttotal: 8m 31s\tremaining: 34m 11s\n",
            "610:\tlearn: 0.2494814\ttest: 0.2507246\tbest: 0.2507246 (610)\ttotal: 8m 40s\tremaining: 34m 2s\n",
            "620:\tlearn: 0.2494540\ttest: 0.2507228\tbest: 0.2507221 (613)\ttotal: 8m 48s\tremaining: 33m 53s\n",
            "630:\tlearn: 0.2494296\ttest: 0.2507243\tbest: 0.2507221 (613)\ttotal: 8m 57s\tremaining: 33m 44s\n",
            "640:\tlearn: 0.2494047\ttest: 0.2507266\tbest: 0.2507221 (613)\ttotal: 9m 5s\tremaining: 33m 35s\n",
            "650:\tlearn: 0.2493831\ttest: 0.2507300\tbest: 0.2507221 (613)\ttotal: 9m 13s\tremaining: 33m 25s\n",
            "660:\tlearn: 0.2493527\ttest: 0.2507242\tbest: 0.2507221 (613)\ttotal: 9m 22s\tremaining: 33m 17s\n",
            "670:\tlearn: 0.2493280\ttest: 0.2507269\tbest: 0.2507221 (613)\ttotal: 9m 30s\tremaining: 33m 7s\n",
            "680:\tlearn: 0.2492940\ttest: 0.2507255\tbest: 0.2507221 (613)\ttotal: 9m 38s\tremaining: 32m 59s\n",
            "690:\tlearn: 0.2492649\ttest: 0.2507234\tbest: 0.2507221 (613)\ttotal: 9m 47s\tremaining: 32m 51s\n",
            "700:\tlearn: 0.2492366\ttest: 0.2507229\tbest: 0.2507207 (694)\ttotal: 9m 55s\tremaining: 32m 42s\n",
            "710:\tlearn: 0.2492145\ttest: 0.2507224\tbest: 0.2507207 (694)\ttotal: 10m 4s\tremaining: 32m 33s\n",
            "720:\tlearn: 0.2491848\ttest: 0.2507186\tbest: 0.2507183 (719)\ttotal: 10m 12s\tremaining: 32m 24s\n",
            "730:\tlearn: 0.2491625\ttest: 0.2507196\tbest: 0.2507183 (719)\ttotal: 10m 20s\tremaining: 32m 15s\n",
            "740:\tlearn: 0.2491434\ttest: 0.2507178\tbest: 0.2507176 (739)\ttotal: 10m 29s\tremaining: 32m 6s\n",
            "750:\tlearn: 0.2491170\ttest: 0.2507170\tbest: 0.2507156 (748)\ttotal: 10m 37s\tremaining: 31m 57s\n",
            "760:\tlearn: 0.2490918\ttest: 0.2507108\tbest: 0.2507100 (759)\ttotal: 10m 45s\tremaining: 31m 48s\n",
            "770:\tlearn: 0.2490649\ttest: 0.2507120\tbest: 0.2507100 (759)\ttotal: 10m 54s\tremaining: 31m 39s\n",
            "780:\tlearn: 0.2490411\ttest: 0.2507113\tbest: 0.2507100 (776)\ttotal: 11m 3s\tremaining: 31m 34s\n",
            "790:\tlearn: 0.2490142\ttest: 0.2507103\tbest: 0.2507100 (776)\ttotal: 11m 12s\tremaining: 31m 25s\n",
            "800:\tlearn: 0.2489861\ttest: 0.2507104\tbest: 0.2507081 (793)\ttotal: 11m 20s\tremaining: 31m 16s\n",
            "810:\tlearn: 0.2489570\ttest: 0.2507049\tbest: 0.2507046 (809)\ttotal: 11m 28s\tremaining: 31m 7s\n",
            "820:\tlearn: 0.2489300\ttest: 0.2506993\tbest: 0.2506993 (820)\ttotal: 11m 37s\tremaining: 30m 58s\n",
            "830:\tlearn: 0.2489070\ttest: 0.2507023\tbest: 0.2506993 (820)\ttotal: 11m 45s\tremaining: 30m 49s\n",
            "840:\tlearn: 0.2488841\ttest: 0.2507020\tbest: 0.2506993 (820)\ttotal: 11m 53s\tremaining: 30m 41s\n",
            "850:\tlearn: 0.2488607\ttest: 0.2507025\tbest: 0.2506993 (820)\ttotal: 12m 2s\tremaining: 30m 32s\n",
            "860:\tlearn: 0.2488343\ttest: 0.2507039\tbest: 0.2506993 (820)\ttotal: 12m 10s\tremaining: 30m 23s\n",
            "870:\tlearn: 0.2488137\ttest: 0.2507008\tbest: 0.2506993 (820)\ttotal: 12m 19s\tremaining: 30m 14s\n",
            "880:\tlearn: 0.2487889\ttest: 0.2507008\tbest: 0.2506986 (875)\ttotal: 12m 27s\tremaining: 30m 6s\n",
            "890:\tlearn: 0.2487659\ttest: 0.2507003\tbest: 0.2506986 (875)\ttotal: 12m 35s\tremaining: 29m 57s\n",
            "900:\tlearn: 0.2487410\ttest: 0.2507018\tbest: 0.2506986 (875)\ttotal: 12m 44s\tremaining: 29m 48s\n",
            "910:\tlearn: 0.2487170\ttest: 0.2506998\tbest: 0.2506986 (875)\ttotal: 12m 52s\tremaining: 29m 40s\n",
            "920:\tlearn: 0.2486961\ttest: 0.2507001\tbest: 0.2506986 (875)\ttotal: 13m 1s\tremaining: 29m 31s\n",
            "930:\tlearn: 0.2486722\ttest: 0.2507038\tbest: 0.2506986 (875)\ttotal: 13m 9s\tremaining: 29m 22s\n",
            "940:\tlearn: 0.2486475\ttest: 0.2507045\tbest: 0.2506986 (875)\ttotal: 13m 17s\tremaining: 29m 13s\n",
            "950:\tlearn: 0.2486210\ttest: 0.2507051\tbest: 0.2506986 (875)\ttotal: 13m 26s\tremaining: 29m 5s\n",
            "960:\tlearn: 0.2486006\ttest: 0.2507055\tbest: 0.2506986 (875)\ttotal: 13m 34s\tremaining: 28m 56s\n",
            "970:\tlearn: 0.2485763\ttest: 0.2507082\tbest: 0.2506986 (875)\ttotal: 13m 43s\tremaining: 28m 48s\n",
            "980:\tlearn: 0.2485518\ttest: 0.2507059\tbest: 0.2506986 (875)\ttotal: 13m 51s\tremaining: 28m 39s\n",
            "990:\tlearn: 0.2485321\ttest: 0.2507106\tbest: 0.2506986 (875)\ttotal: 13m 59s\tremaining: 28m 30s\n",
            "1000:\tlearn: 0.2485091\ttest: 0.2507062\tbest: 0.2506986 (875)\ttotal: 14m 7s\tremaining: 28m 21s\n",
            "1010:\tlearn: 0.2484878\ttest: 0.2507032\tbest: 0.2506986 (875)\ttotal: 14m 16s\tremaining: 28m 13s\n",
            "1020:\tlearn: 0.2484639\ttest: 0.2507025\tbest: 0.2506986 (875)\ttotal: 14m 24s\tremaining: 28m 4s\n",
            "1030:\tlearn: 0.2484403\ttest: 0.2507057\tbest: 0.2506986 (875)\ttotal: 14m 32s\tremaining: 27m 55s\n",
            "1040:\tlearn: 0.2484208\ttest: 0.2507079\tbest: 0.2506986 (875)\ttotal: 14m 41s\tremaining: 27m 46s\n",
            "1050:\tlearn: 0.2483980\ttest: 0.2507092\tbest: 0.2506986 (875)\ttotal: 14m 49s\tremaining: 27m 38s\n",
            "1060:\tlearn: 0.2483757\ttest: 0.2507124\tbest: 0.2506986 (875)\ttotal: 14m 57s\tremaining: 27m 29s\n",
            "1070:\tlearn: 0.2483539\ttest: 0.2507095\tbest: 0.2506986 (875)\ttotal: 15m 6s\tremaining: 27m 20s\n",
            "Stopped by overfitting detector  (200 iterations wait)\n",
            "\n",
            "bestTest = 0.2506985858\n",
            "bestIteration = 875\n",
            "\n",
            "Shrink model to first 876 iterations.\n",
            "Fold 4 : 0.250698585829112\n",
            "\n",
            "\n",
            "Avg log :  0.25102568495125444\n"
          ]
        }
      ],
      "source": [
        "score = 0\n",
        "test_oofs = []\n",
        "\n",
        "for i, (tr_idx, vr_idx) in enumerate(kf.split(train, train[target])):\n",
        "  X, Y = train.loc[tr_idx, conts], train.loc[tr_idx, target]\n",
        "  x, y = train.loc[vr_idx, conts], train.loc[vr_idx, target]\n",
        "\n",
        "  model = CatBoostClassifier(**params)\n",
        "  model.fit(X, Y, eval_set=[(x,y)], verbose=10)\n",
        "  p = model.predict_proba(x)[:, 1]\n",
        "  pred = model.predict_proba(test[conts])[:, 1]\n",
        "  sc = metric(y, p)\n",
        "\n",
        "  score += sc/n_skf\n",
        "  test_oofs.append(pred)\n",
        "\n",
        "  print('Fold {} : {}'.format(i, sc))\n",
        "\n",
        "print()\n",
        "print()\n",
        "print('Avg log : ', score)"
      ]
    },
    {
      "cell_type": "markdown",
      "metadata": {
        "colab_type": "text",
        "id": "g1uFGbIyDJXP"
      },
      "source": [
        "# Prediction"
      ]
    },
    {
      "cell_type": "code",
      "execution_count": null,
      "metadata": {
        "colab": {},
        "colab_type": "code",
        "id": "w2F18dUJj6Wc"
      },
      "outputs": [],
      "source": [
        "test_cols = ['user_id', target]"
      ]
    },
    {
      "cell_type": "code",
      "execution_count": null,
      "metadata": {
        "colab": {},
        "colab_type": "code",
        "id": "KVt21vzDDLO8"
      },
      "outputs": [],
      "source": [
        "test[target] = np.mean(test_oofs, axis=0)"
      ]
    },
    {
      "cell_type": "markdown",
      "metadata": {
        "colab_type": "text",
        "id": "NbQ2BxXomhbO"
      },
      "source": [
        "# Distr"
      ]
    },
    {
      "cell_type": "code",
      "execution_count": null,
      "metadata": {
        "colab": {
          "base_uri": "https://localhost:8080/",
          "height": 202
        },
        "colab_type": "code",
        "id": "O-xY7imuDLMD",
        "outputId": "dc74bc2b-c25f-48c1-b79c-2ddbf2f388e0"
      },
      "outputs": [
        {
          "data": {
            "text/html": [
              "<div>\n",
              "<style scoped>\n",
              "    .dataframe tbody tr th:only-of-type {\n",
              "        vertical-align: middle;\n",
              "    }\n",
              "\n",
              "    .dataframe tbody tr th {\n",
              "        vertical-align: top;\n",
              "    }\n",
              "\n",
              "    .dataframe thead th {\n",
              "        text-align: right;\n",
              "    }\n",
              "</style>\n",
              "<table border=\"1\" class=\"dataframe\">\n",
              "  <thead>\n",
              "    <tr style=\"text-align: right;\">\n",
              "      <th></th>\n",
              "      <th>user_id</th>\n",
              "      <th>CHURN</th>\n",
              "    </tr>\n",
              "  </thead>\n",
              "  <tbody>\n",
              "    <tr>\n",
              "      <th>0</th>\n",
              "      <td>00001dbe00e56fc4b1c1b65dda63de2a5ece55f9</td>\n",
              "      <td>0.000878</td>\n",
              "    </tr>\n",
              "    <tr>\n",
              "      <th>1</th>\n",
              "      <td>000055d41c8a62052dd426592e8a4a3342bf565d</td>\n",
              "      <td>0.080654</td>\n",
              "    </tr>\n",
              "    <tr>\n",
              "      <th>2</th>\n",
              "      <td>000081dd3245e6869a4a9c574c7050e7bb84c2c8</td>\n",
              "      <td>0.000667</td>\n",
              "    </tr>\n",
              "    <tr>\n",
              "      <th>3</th>\n",
              "      <td>0000b76d2145d9445d9ff6b65c9ebc4196c89337</td>\n",
              "      <td>0.395694</td>\n",
              "    </tr>\n",
              "    <tr>\n",
              "      <th>4</th>\n",
              "      <td>0000bae5480628cf8fe51ad84bcb39772fc79224</td>\n",
              "      <td>0.377464</td>\n",
              "    </tr>\n",
              "  </tbody>\n",
              "</table>\n",
              "</div>"
            ],
            "text/plain": [
              "                                    user_id     CHURN\n",
              "0  00001dbe00e56fc4b1c1b65dda63de2a5ece55f9  0.000878\n",
              "1  000055d41c8a62052dd426592e8a4a3342bf565d  0.080654\n",
              "2  000081dd3245e6869a4a9c574c7050e7bb84c2c8  0.000667\n",
              "3  0000b76d2145d9445d9ff6b65c9ebc4196c89337  0.395694\n",
              "4  0000bae5480628cf8fe51ad84bcb39772fc79224  0.377464"
            ]
          },
          "execution_count": 72,
          "metadata": {
            "tags": []
          },
          "output_type": "execute_result"
        }
      ],
      "source": [
        "test[test_cols].head()"
      ]
    },
    {
      "cell_type": "code",
      "execution_count": null,
      "metadata": {
        "colab": {
          "base_uri": "https://localhost:8080/",
          "height": 283
        },
        "colab_type": "code",
        "id": "cTmIrMCNhFg4",
        "outputId": "94afd3c3-aebd-4830-ac52-93b4f7e05eb2"
      },
      "outputs": [
        {
          "data": {
            "text/plain": [
              "<matplotlib.axes._subplots.AxesSubplot at 0x7fc2a636eac8>"
            ]
          },
          "execution_count": 73,
          "metadata": {
            "tags": []
          },
          "output_type": "execute_result"
        },
        {
          "data": {
            "image/png": "[encoded data removed]",
            "text/plain": [
              "<Figure size 432x288 with 1 Axes>"
            ]
          },
          "metadata": {
            "needs_background": "light",
            "tags": []
          },
          "output_type": "display_data"
        }
      ],
      "source": [
        "test[target].hist()"
      ]
    },
    {
      "cell_type": "markdown",
      "metadata": {
        "colab_type": "text",
        "id": "2jKPLlI0DMMF"
      },
      "source": [
        "# Submission"
      ]
    },
    {
      "cell_type": "code",
      "execution_count": null,
      "metadata": {
        "colab": {},
        "colab_type": "code",
        "id": "9YmFOglRDOpU"
      },
      "outputs": [],
      "source": [
        "def submit(sub, name):\n",
        "    filepath = os.path.join(PATH['submissions'], name+'.csv')\n",
        "    sub.to_csv( filepath, index=False)\n",
        "    print(f\"[INFO] Submission file created : {filepath} \")"
      ]
    },
    {
      "cell_type": "code",
      "execution_count": null,
      "metadata": {
        "colab": {
          "base_uri": "https://localhost:8080/",
          "height": 35
        },
        "colab_type": "code",
        "id": "gHdKNSO5DrLN",
        "outputId": "4e408c7c-7324-46ec-e3ae-89806eb0b1c8"
      },
      "outputs": [
        {
          "name": "stdout",
          "output_type": "stream",
          "text": [
            "[INFO] Submission file created : ../SUBMISSIONS/vanilla_cat_no_fillna_0.25102568495125444_2.csv \n"
          ]
        }
      ],
      "source": [
        "submit(test[['user_id', target]], f'vanilla_cat_no_fillna_seed={seed}_n-sfk={n_skf}_score={score}_')"
      ]
    },
    {
      "cell_type": "code",
      "execution_count": null,
      "metadata": {},
      "outputs": [],
      "source": [
        "print(\"End\")"
      ]
    }
  ],
  "metadata": {
    "colab": {
      "collapsed_sections": [],
      "name": "cat_starter_customer_churn.ipynb",
      "provenance": []
    },
    "kernelspec": {
      "display_name": "Python 3.8.10 64-bit",
      "language": "python",
      "name": "python3"
    },
    "language_info": {
      "name": "python",
      "version": "3.8.10"
    },
    "vscode": {
      "interpreter": {
        "hash": "916dbcbb3f70747c44a77c7bcd40155683ae19c65e1c03b4aa3499c5328201f1"
      }
    }
  },
  "nbformat": 4,
  "nbformat_minor": 0
}
